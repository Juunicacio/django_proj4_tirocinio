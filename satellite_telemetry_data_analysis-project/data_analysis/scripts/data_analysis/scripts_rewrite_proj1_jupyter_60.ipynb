{
 "cells": [
  {
   "cell_type": "code",
   "execution_count": 1,
   "id": "14e30178",
   "metadata": {},
   "outputs": [],
   "source": [
    "# importing the created gps data and detph data"
   ]
  },
  {
   "cell_type": "code",
   "execution_count": 2,
   "id": "8efebb00",
   "metadata": {},
   "outputs": [],
   "source": [
    "import os\n",
    "import pandas as pd\n",
    "import matplotlib.pyplot as plt\n",
    "import numpy as np\n",
    "#import matplotlib.lines as mlines\n",
    "# for the depth graph\n",
    "import plotly.graph_objects as go"
   ]
  },
  {
   "cell_type": "code",
   "execution_count": 3,
   "id": "8c2bb1c6",
   "metadata": {},
   "outputs": [],
   "source": [
    "# To run with terminal OR jupyter notebook:\n",
    "\n",
    "DATACLEANINGRESULTS_FOLDER = \"dataCleaningResults\"\n",
    "DATACLEANINGRESULTS_FOLDER_ITENS = os.listdir(DATACLEANINGRESULTS_FOLDER)# (\"data_analysis/dataCleaningResults\")"
   ]
  },
  {
   "cell_type": "code",
   "execution_count": 4,
   "id": "cf154373",
   "metadata": {},
   "outputs": [],
   "source": [
    "def addDataFromCsv(filename):\n",
    "    currentFileCsv = DATACLEANINGRESULTS_FOLDER + '/' + filename\n",
    "    df = pd.read_csv(currentFileCsv)\n",
    "    return df"
   ]
  },
  {
   "cell_type": "code",
   "execution_count": 5,
   "id": "34f71a33",
   "metadata": {},
   "outputs": [],
   "source": [
    "#for file in DATACLEANINGRESULTS_FOLDER_ITENS:\n",
    "    #print(file)"
   ]
  },
  {
   "cell_type": "code",
   "execution_count": 6,
   "id": "858e82a6",
   "metadata": {},
   "outputs": [],
   "source": [
    "depthT1 = \"depthDataDf_lastOne_Tag_710333a_2021_Feb.csv\"\n",
    "depthT2 = \"depthDataDf_lastOne_Tag_710348a_2021_Feb.csv\""
   ]
  },
  {
   "cell_type": "code",
   "execution_count": 7,
   "id": "b0688dac",
   "metadata": {},
   "outputs": [],
   "source": [
    "depthDfT1 = addDataFromCsv(depthT1)\n",
    "depthDfT2 = addDataFromCsv(depthT2)"
   ]
  },
  {
   "cell_type": "code",
   "execution_count": 8,
   "id": "6d819deb",
   "metadata": {},
   "outputs": [
    {
     "data": {
      "text/html": [
       "<div>\n",
       "<style scoped>\n",
       "    .dataframe tbody tr th:only-of-type {\n",
       "        vertical-align: middle;\n",
       "    }\n",
       "\n",
       "    .dataframe tbody tr th {\n",
       "        vertical-align: top;\n",
       "    }\n",
       "\n",
       "    .dataframe thead th {\n",
       "        text-align: right;\n",
       "    }\n",
       "</style>\n",
       "<table border=\"1\" class=\"dataframe\">\n",
       "  <thead>\n",
       "    <tr style=\"text-align: right;\">\n",
       "      <th></th>\n",
       "      <th>Depth Data ID</th>\n",
       "      <th>No GPS Data ID</th>\n",
       "      <th>Acquisition Time</th>\n",
       "      <th>Acquisition Start Time</th>\n",
       "      <th>Underwater Percentage</th>\n",
       "      <th>Dive Count</th>\n",
       "      <th>Average Dive Duration</th>\n",
       "      <th>Maximum Dive Duration</th>\n",
       "      <th>Maximum Dive Depth</th>\n",
       "      <th>Layer 1 Percentage</th>\n",
       "      <th>...</th>\n",
       "      <th>Layer 10 Dive Count</th>\n",
       "      <th>Approx Depth AQ Time Longitude</th>\n",
       "      <th>Approx Depth AQ Time Latitude</th>\n",
       "      <th>Daylight</th>\n",
       "      <th>Position Dawn time</th>\n",
       "      <th>Position Dusk Time</th>\n",
       "      <th>Data Month</th>\n",
       "      <th>Data Year</th>\n",
       "      <th>Months by Year</th>\n",
       "      <th>Tracked Days by Month</th>\n",
       "    </tr>\n",
       "  </thead>\n",
       "  <tbody>\n",
       "    <tr>\n",
       "      <th>0</th>\n",
       "      <td>1</td>\n",
       "      <td>47</td>\n",
       "      <td>2020.07.10 02:00:00</td>\n",
       "      <td>2020.07.10 00:00:00</td>\n",
       "      <td>7.422</td>\n",
       "      <td>12.0</td>\n",
       "      <td>44.0</td>\n",
       "      <td>NaN</td>\n",
       "      <td>3.0</td>\n",
       "      <td>6.641</td>\n",
       "      <td>...</td>\n",
       "      <td>0.0</td>\n",
       "      <td>16.069640</td>\n",
       "      <td>37.931175</td>\n",
       "      <td>False</td>\n",
       "      <td>2020-07-10 03:11:01.408682+00:00</td>\n",
       "      <td>2020-07-10 18:50:57.625546+00:00</td>\n",
       "      <td>7</td>\n",
       "      <td>2020</td>\n",
       "      <td>July 2020</td>\n",
       "      <td>July 2020 (22 days)</td>\n",
       "    </tr>\n",
       "    <tr>\n",
       "      <th>1</th>\n",
       "      <td>2</td>\n",
       "      <td>49</td>\n",
       "      <td>2020.07.10 04:00:00</td>\n",
       "      <td>2020.07.10 02:00:00</td>\n",
       "      <td>74.609</td>\n",
       "      <td>55.0</td>\n",
       "      <td>98.0</td>\n",
       "      <td>NaN</td>\n",
       "      <td>19.0</td>\n",
       "      <td>43.359</td>\n",
       "      <td>...</td>\n",
       "      <td>0.0</td>\n",
       "      <td>16.063297</td>\n",
       "      <td>37.921200</td>\n",
       "      <td>True</td>\n",
       "      <td>2020-07-10 03:11:05.005265+00:00</td>\n",
       "      <td>2020-07-10 18:50:57.084467+00:00</td>\n",
       "      <td>7</td>\n",
       "      <td>2020</td>\n",
       "      <td>July 2020</td>\n",
       "      <td>July 2020 (22 days)</td>\n",
       "    </tr>\n",
       "    <tr>\n",
       "      <th>2</th>\n",
       "      <td>3</td>\n",
       "      <td>53</td>\n",
       "      <td>2020.07.10 06:00:00</td>\n",
       "      <td>2020.07.10 04:00:00</td>\n",
       "      <td>96.484</td>\n",
       "      <td>60.0</td>\n",
       "      <td>109.0</td>\n",
       "      <td>NaN</td>\n",
       "      <td>35.0</td>\n",
       "      <td>29.297</td>\n",
       "      <td>...</td>\n",
       "      <td>0.0</td>\n",
       "      <td>16.048073</td>\n",
       "      <td>37.919044</td>\n",
       "      <td>True</td>\n",
       "      <td>2020-07-10 03:11:09.108872+00:00</td>\n",
       "      <td>2020-07-10 18:51:00.291648+00:00</td>\n",
       "      <td>7</td>\n",
       "      <td>2020</td>\n",
       "      <td>July 2020</td>\n",
       "      <td>July 2020 (22 days)</td>\n",
       "    </tr>\n",
       "    <tr>\n",
       "      <th>3</th>\n",
       "      <td>4</td>\n",
       "      <td>55</td>\n",
       "      <td>2020.07.10 08:00:00</td>\n",
       "      <td>2020.07.10 06:00:00</td>\n",
       "      <td>92.578</td>\n",
       "      <td>6.0</td>\n",
       "      <td>1023.0</td>\n",
       "      <td>NaN</td>\n",
       "      <td>9.0</td>\n",
       "      <td>2.734</td>\n",
       "      <td>...</td>\n",
       "      <td>0.0</td>\n",
       "      <td>16.047623</td>\n",
       "      <td>37.918550</td>\n",
       "      <td>True</td>\n",
       "      <td>2020-07-10 03:11:09.320021+00:00</td>\n",
       "      <td>2020-07-10 18:51:00.297133+00:00</td>\n",
       "      <td>7</td>\n",
       "      <td>2020</td>\n",
       "      <td>July 2020</td>\n",
       "      <td>July 2020 (22 days)</td>\n",
       "    </tr>\n",
       "    <tr>\n",
       "      <th>4</th>\n",
       "      <td>5</td>\n",
       "      <td>57</td>\n",
       "      <td>2020.07.10 10:00:00</td>\n",
       "      <td>2020.07.10 08:00:00</td>\n",
       "      <td>94.922</td>\n",
       "      <td>13.0</td>\n",
       "      <td>499.0</td>\n",
       "      <td>NaN</td>\n",
       "      <td>9.0</td>\n",
       "      <td>6.641</td>\n",
       "      <td>...</td>\n",
       "      <td>0.0</td>\n",
       "      <td>16.047073</td>\n",
       "      <td>37.919150</td>\n",
       "      <td>True</td>\n",
       "      <td>2020-07-10 03:11:09.326658+00:00</td>\n",
       "      <td>2020-07-10 18:51:00.553522+00:00</td>\n",
       "      <td>7</td>\n",
       "      <td>2020</td>\n",
       "      <td>July 2020</td>\n",
       "      <td>July 2020 (22 days)</td>\n",
       "    </tr>\n",
       "    <tr>\n",
       "      <th>5</th>\n",
       "      <td>6</td>\n",
       "      <td>61</td>\n",
       "      <td>2020.07.10 12:00:00</td>\n",
       "      <td>2020.07.10 10:00:00</td>\n",
       "      <td>94.922</td>\n",
       "      <td>15.0</td>\n",
       "      <td>507.0</td>\n",
       "      <td>NaN</td>\n",
       "      <td>7.0</td>\n",
       "      <td>57.422</td>\n",
       "      <td>...</td>\n",
       "      <td>0.0</td>\n",
       "      <td>16.046116</td>\n",
       "      <td>37.917316</td>\n",
       "      <td>True</td>\n",
       "      <td>2020-07-10 03:11:09.937899+00:00</td>\n",
       "      <td>2020-07-10 18:51:00.403958+00:00</td>\n",
       "      <td>7</td>\n",
       "      <td>2020</td>\n",
       "      <td>July 2020</td>\n",
       "      <td>July 2020 (22 days)</td>\n",
       "    </tr>\n",
       "    <tr>\n",
       "      <th>6</th>\n",
       "      <td>7</td>\n",
       "      <td>63</td>\n",
       "      <td>2020.07.10 14:00:00</td>\n",
       "      <td>2020.07.10 12:00:00</td>\n",
       "      <td>98.047</td>\n",
       "      <td>85.0</td>\n",
       "      <td>77.0</td>\n",
       "      <td>NaN</td>\n",
       "      <td>11.0</td>\n",
       "      <td>55.078</td>\n",
       "      <td>...</td>\n",
       "      <td>0.0</td>\n",
       "      <td>16.026730</td>\n",
       "      <td>37.917010</td>\n",
       "      <td>True</td>\n",
       "      <td>2020-07-10 03:11:14.656293+00:00</td>\n",
       "      <td>2020-07-10 18:51:04.992149+00:00</td>\n",
       "      <td>7</td>\n",
       "      <td>2020</td>\n",
       "      <td>July 2020</td>\n",
       "      <td>July 2020 (22 days)</td>\n",
       "    </tr>\n",
       "    <tr>\n",
       "      <th>7</th>\n",
       "      <td>8</td>\n",
       "      <td>67</td>\n",
       "      <td>2020.07.10 16:00:00</td>\n",
       "      <td>2020.07.10 14:00:00</td>\n",
       "      <td>95.703</td>\n",
       "      <td>41.0</td>\n",
       "      <td>177.0</td>\n",
       "      <td>NaN</td>\n",
       "      <td>11.0</td>\n",
       "      <td>58.984</td>\n",
       "      <td>...</td>\n",
       "      <td>0.0</td>\n",
       "      <td>16.044266</td>\n",
       "      <td>37.919193</td>\n",
       "      <td>True</td>\n",
       "      <td>2020-07-10 03:11:09.992093+00:00</td>\n",
       "      <td>2020-07-10 18:51:01.235816+00:00</td>\n",
       "      <td>7</td>\n",
       "      <td>2020</td>\n",
       "      <td>July 2020</td>\n",
       "      <td>July 2020 (22 days)</td>\n",
       "    </tr>\n",
       "    <tr>\n",
       "      <th>8</th>\n",
       "      <td>9</td>\n",
       "      <td>71</td>\n",
       "      <td>2020.07.10 18:00:00</td>\n",
       "      <td>2020.07.10 16:00:00</td>\n",
       "      <td>94.922</td>\n",
       "      <td>13.0</td>\n",
       "      <td>538.0</td>\n",
       "      <td>NaN</td>\n",
       "      <td>9.0</td>\n",
       "      <td>47.266</td>\n",
       "      <td>...</td>\n",
       "      <td>0.0</td>\n",
       "      <td>16.045256</td>\n",
       "      <td>37.917870</td>\n",
       "      <td>True</td>\n",
       "      <td>2020-07-10 03:11:10.029499+00:00</td>\n",
       "      <td>2020-07-10 18:51:00.724682+00:00</td>\n",
       "      <td>7</td>\n",
       "      <td>2020</td>\n",
       "      <td>July 2020</td>\n",
       "      <td>July 2020 (22 days)</td>\n",
       "    </tr>\n",
       "    <tr>\n",
       "      <th>9</th>\n",
       "      <td>10</td>\n",
       "      <td>73</td>\n",
       "      <td>2020.07.10 20:00:00</td>\n",
       "      <td>2020.07.10 18:00:00</td>\n",
       "      <td>94.141</td>\n",
       "      <td>14.0</td>\n",
       "      <td>436.0</td>\n",
       "      <td>NaN</td>\n",
       "      <td>11.0</td>\n",
       "      <td>6.641</td>\n",
       "      <td>...</td>\n",
       "      <td>0.0</td>\n",
       "      <td>16.052362</td>\n",
       "      <td>37.920204</td>\n",
       "      <td>False</td>\n",
       "      <td>2020-07-10 03:11:07.837839+00:00</td>\n",
       "      <td>2020-07-10 18:50:59.502186+00:00</td>\n",
       "      <td>7</td>\n",
       "      <td>2020</td>\n",
       "      <td>July 2020</td>\n",
       "      <td>July 2020 (22 days)</td>\n",
       "    </tr>\n",
       "  </tbody>\n",
       "</table>\n",
       "<p>10 rows × 38 columns</p>\n",
       "</div>"
      ],
      "text/plain": [
       "   Depth Data ID  No GPS Data ID     Acquisition Time Acquisition Start Time  \\\n",
       "0              1              47  2020.07.10 02:00:00    2020.07.10 00:00:00   \n",
       "1              2              49  2020.07.10 04:00:00    2020.07.10 02:00:00   \n",
       "2              3              53  2020.07.10 06:00:00    2020.07.10 04:00:00   \n",
       "3              4              55  2020.07.10 08:00:00    2020.07.10 06:00:00   \n",
       "4              5              57  2020.07.10 10:00:00    2020.07.10 08:00:00   \n",
       "5              6              61  2020.07.10 12:00:00    2020.07.10 10:00:00   \n",
       "6              7              63  2020.07.10 14:00:00    2020.07.10 12:00:00   \n",
       "7              8              67  2020.07.10 16:00:00    2020.07.10 14:00:00   \n",
       "8              9              71  2020.07.10 18:00:00    2020.07.10 16:00:00   \n",
       "9             10              73  2020.07.10 20:00:00    2020.07.10 18:00:00   \n",
       "\n",
       "   Underwater Percentage  Dive Count  Average Dive Duration  \\\n",
       "0                  7.422        12.0                   44.0   \n",
       "1                 74.609        55.0                   98.0   \n",
       "2                 96.484        60.0                  109.0   \n",
       "3                 92.578         6.0                 1023.0   \n",
       "4                 94.922        13.0                  499.0   \n",
       "5                 94.922        15.0                  507.0   \n",
       "6                 98.047        85.0                   77.0   \n",
       "7                 95.703        41.0                  177.0   \n",
       "8                 94.922        13.0                  538.0   \n",
       "9                 94.141        14.0                  436.0   \n",
       "\n",
       "   Maximum Dive Duration  Maximum Dive Depth  Layer 1 Percentage  ...  \\\n",
       "0                    NaN                 3.0               6.641  ...   \n",
       "1                    NaN                19.0              43.359  ...   \n",
       "2                    NaN                35.0              29.297  ...   \n",
       "3                    NaN                 9.0               2.734  ...   \n",
       "4                    NaN                 9.0               6.641  ...   \n",
       "5                    NaN                 7.0              57.422  ...   \n",
       "6                    NaN                11.0              55.078  ...   \n",
       "7                    NaN                11.0              58.984  ...   \n",
       "8                    NaN                 9.0              47.266  ...   \n",
       "9                    NaN                11.0               6.641  ...   \n",
       "\n",
       "   Layer 10 Dive Count  Approx Depth AQ Time Longitude  \\\n",
       "0                  0.0                       16.069640   \n",
       "1                  0.0                       16.063297   \n",
       "2                  0.0                       16.048073   \n",
       "3                  0.0                       16.047623   \n",
       "4                  0.0                       16.047073   \n",
       "5                  0.0                       16.046116   \n",
       "6                  0.0                       16.026730   \n",
       "7                  0.0                       16.044266   \n",
       "8                  0.0                       16.045256   \n",
       "9                  0.0                       16.052362   \n",
       "\n",
       "   Approx Depth AQ Time Latitude  Daylight                Position Dawn time  \\\n",
       "0                      37.931175     False  2020-07-10 03:11:01.408682+00:00   \n",
       "1                      37.921200      True  2020-07-10 03:11:05.005265+00:00   \n",
       "2                      37.919044      True  2020-07-10 03:11:09.108872+00:00   \n",
       "3                      37.918550      True  2020-07-10 03:11:09.320021+00:00   \n",
       "4                      37.919150      True  2020-07-10 03:11:09.326658+00:00   \n",
       "5                      37.917316      True  2020-07-10 03:11:09.937899+00:00   \n",
       "6                      37.917010      True  2020-07-10 03:11:14.656293+00:00   \n",
       "7                      37.919193      True  2020-07-10 03:11:09.992093+00:00   \n",
       "8                      37.917870      True  2020-07-10 03:11:10.029499+00:00   \n",
       "9                      37.920204     False  2020-07-10 03:11:07.837839+00:00   \n",
       "\n",
       "                 Position Dusk Time  Data Month  Data Year  Months by Year  \\\n",
       "0  2020-07-10 18:50:57.625546+00:00           7       2020       July 2020   \n",
       "1  2020-07-10 18:50:57.084467+00:00           7       2020       July 2020   \n",
       "2  2020-07-10 18:51:00.291648+00:00           7       2020       July 2020   \n",
       "3  2020-07-10 18:51:00.297133+00:00           7       2020       July 2020   \n",
       "4  2020-07-10 18:51:00.553522+00:00           7       2020       July 2020   \n",
       "5  2020-07-10 18:51:00.403958+00:00           7       2020       July 2020   \n",
       "6  2020-07-10 18:51:04.992149+00:00           7       2020       July 2020   \n",
       "7  2020-07-10 18:51:01.235816+00:00           7       2020       July 2020   \n",
       "8  2020-07-10 18:51:00.724682+00:00           7       2020       July 2020   \n",
       "9  2020-07-10 18:50:59.502186+00:00           7       2020       July 2020   \n",
       "\n",
       "   Tracked Days by Month  \n",
       "0    July 2020 (22 days)  \n",
       "1    July 2020 (22 days)  \n",
       "2    July 2020 (22 days)  \n",
       "3    July 2020 (22 days)  \n",
       "4    July 2020 (22 days)  \n",
       "5    July 2020 (22 days)  \n",
       "6    July 2020 (22 days)  \n",
       "7    July 2020 (22 days)  \n",
       "8    July 2020 (22 days)  \n",
       "9    July 2020 (22 days)  \n",
       "\n",
       "[10 rows x 38 columns]"
      ]
     },
     "execution_count": 8,
     "metadata": {},
     "output_type": "execute_result"
    }
   ],
   "source": [
    "depthDfT1.head(10)"
   ]
  },
  {
   "cell_type": "code",
   "execution_count": 9,
   "id": "501e6cfb",
   "metadata": {},
   "outputs": [
    {
     "data": {
      "text/plain": [
       "88.62694521604939"
      ]
     },
     "execution_count": 9,
     "metadata": {},
     "output_type": "execute_result"
    }
   ],
   "source": [
    "depthDfT1['Underwater Percentagt'].mean()"
   ]
  },
  {
   "cell_type": "code",
   "execution_count": 10,
   "id": "6aaa83bc",
   "metadata": {},
   "outputs": [],
   "source": [
    "#depthDfT1['Dive Count'].mean()"
   ]
  },
  {
   "cell_type": "code",
   "execution_count": 11,
   "id": "aeb69aaa",
   "metadata": {},
   "outputs": [],
   "source": [
    "#depthDfT1['Average Dive Duration'].mean()"
   ]
  },
  {
   "cell_type": "code",
   "execution_count": 12,
   "id": "c1099375",
   "metadata": {},
   "outputs": [],
   "source": [
    "#depthDfT1['Maximum Dive Depth'].mean()"
   ]
  },
  {
   "cell_type": "code",
   "execution_count": 13,
   "id": "33325371",
   "metadata": {},
   "outputs": [
    {
     "data": {
      "text/plain": [
       "34.928725694444445"
      ]
     },
     "execution_count": 13,
     "metadata": {},
     "output_type": "execute_result"
    }
   ],
   "source": [
    "depthDfT1['Layer 1 Percentage'].mean()"
   ]
  },
  {
   "cell_type": "code",
   "execution_count": 14,
   "id": "1edc9c72",
   "metadata": {},
   "outputs": [
    {
     "data": {
      "text/plain": [
       "10.251929783950615"
      ]
     },
     "execution_count": 14,
     "metadata": {},
     "output_type": "execute_result"
    }
   ],
   "source": [
    "depthDfT1['Layer 2 Percentage'].mean()"
   ]
  },
  {
   "cell_type": "code",
   "execution_count": 15,
   "id": "63f50d2a",
   "metadata": {},
   "outputs": [
    {
     "data": {
      "text/plain": [
       "21.991738425925924"
      ]
     },
     "execution_count": 15,
     "metadata": {},
     "output_type": "execute_result"
    }
   ],
   "source": [
    "depthDfT1['Layer 3 Percentage'].mean()"
   ]
  },
  {
   "cell_type": "code",
   "execution_count": 16,
   "id": "3eb96ce3",
   "metadata": {},
   "outputs": [
    {
     "data": {
      "text/plain": [
       "9.455037422839506"
      ]
     },
     "execution_count": 16,
     "metadata": {},
     "output_type": "execute_result"
    }
   ],
   "source": [
    "depthDfT1['Layer 4 Percentage'].mean()"
   ]
  },
  {
   "cell_type": "code",
   "execution_count": 17,
   "id": "c65d1beb",
   "metadata": {},
   "outputs": [
    {
     "data": {
      "text/plain": [
       "3.390447530864198"
      ]
     },
     "execution_count": 17,
     "metadata": {},
     "output_type": "execute_result"
    }
   ],
   "source": [
    "depthDfT1['Layer 5 Percentage'].mean()"
   ]
  },
  {
   "cell_type": "code",
   "execution_count": 18,
   "id": "4b1ffa81",
   "metadata": {},
   "outputs": [
    {
     "data": {
      "text/plain": [
       "2.592344907407407"
      ]
     },
     "execution_count": 18,
     "metadata": {},
     "output_type": "execute_result"
    }
   ],
   "source": [
    "depthDfT1['Layer 6 Percentage'].mean()"
   ]
  },
  {
   "cell_type": "code",
   "execution_count": 19,
   "id": "2cf20d9d",
   "metadata": {},
   "outputs": [
    {
     "data": {
      "text/plain": [
       "4.288396990740741"
      ]
     },
     "execution_count": 19,
     "metadata": {},
     "output_type": "execute_result"
    }
   ],
   "source": [
    "depthDfT1['Layer 7 Percentage'].mean()"
   ]
  },
  {
   "cell_type": "code",
   "execution_count": 20,
   "id": "b5c54bce",
   "metadata": {},
   "outputs": [
    {
     "data": {
      "text/plain": [
       "1.5281577932098767"
      ]
     },
     "execution_count": 20,
     "metadata": {},
     "output_type": "execute_result"
    }
   ],
   "source": [
    "depthDfT1['Layer 8 Percentage'].mean()"
   ]
  },
  {
   "cell_type": "code",
   "execution_count": 21,
   "id": "e7290068",
   "metadata": {},
   "outputs": [
    {
     "data": {
      "text/plain": [
       "0.4934660493827161"
      ]
     },
     "execution_count": 21,
     "metadata": {},
     "output_type": "execute_result"
    }
   ],
   "source": [
    "depthDfT1['Layer 9 Percentage'].mean()"
   ]
  },
  {
   "cell_type": "code",
   "execution_count": 22,
   "id": "4b94d14f",
   "metadata": {},
   "outputs": [
    {
     "data": {
      "text/plain": [
       "0.41963155864197527"
      ]
     },
     "execution_count": 22,
     "metadata": {},
     "output_type": "execute_result"
    }
   ],
   "source": [
    "depthDfT1['Layer 10 Percentage'].mean()"
   ]
  },
  {
   "cell_type": "code",
   "execution_count": 23,
   "id": "4f794f60",
   "metadata": {},
   "outputs": [],
   "source": [
    "# turtle 2"
   ]
  },
  {
   "cell_type": "code",
   "execution_count": 24,
   "id": "83646231",
   "metadata": {},
   "outputs": [
    {
     "data": {
      "text/plain": [
       "85.11029812528578"
      ]
     },
     "execution_count": 24,
     "metadata": {},
     "output_type": "execute_result"
    }
   ],
   "source": [
    "depthDfT2['Underwater Percentage'].mean()"
   ]
  },
  {
   "cell_type": "code",
   "execution_count": 25,
   "id": "9896310c",
   "metadata": {},
   "outputs": [
    {
     "data": {
      "text/plain": [
       "37.24769638774577"
      ]
     },
     "execution_count": 25,
     "metadata": {},
     "output_type": "execute_result"
    }
   ],
   "source": [
    "depthDfT2['Layer 1 Percentage'].mean()"
   ]
  },
  {
   "cell_type": "code",
   "execution_count": 26,
   "id": "8374b3b3",
   "metadata": {},
   "outputs": [
    {
     "data": {
      "text/plain": [
       "9.417558299039781"
      ]
     },
     "execution_count": 26,
     "metadata": {},
     "output_type": "execute_result"
    }
   ],
   "source": [
    "depthDfT2['Layer 2 Percentage'].mean()"
   ]
  },
  {
   "cell_type": "code",
   "execution_count": 27,
   "id": "308c1186",
   "metadata": {},
   "outputs": [
    {
     "data": {
      "text/plain": [
       "13.970665294924554"
      ]
     },
     "execution_count": 27,
     "metadata": {},
     "output_type": "execute_result"
    }
   ],
   "source": [
    "depthDfT2['Layer 3 Percentage'].mean()"
   ]
  },
  {
   "cell_type": "code",
   "execution_count": 28,
   "id": "c6a05cb3",
   "metadata": {},
   "outputs": [
    {
     "data": {
      "text/plain": [
       "10.275606310013718"
      ]
     },
     "execution_count": 28,
     "metadata": {},
     "output_type": "execute_result"
    }
   ],
   "source": [
    "depthDfT2['Layer 4 Percentage'].mean()"
   ]
  },
  {
   "cell_type": "code",
   "execution_count": 29,
   "id": "6c030a27",
   "metadata": {},
   "outputs": [
    {
     "data": {
      "text/plain": [
       "8.433069958847737"
      ]
     },
     "execution_count": 29,
     "metadata": {},
     "output_type": "execute_result"
    }
   ],
   "source": [
    "depthDfT2['Layer 5 Percentage'].mean()"
   ]
  },
  {
   "cell_type": "code",
   "execution_count": 30,
   "id": "5bde9084",
   "metadata": {},
   "outputs": [
    {
     "data": {
      "text/plain": [
       "4.007800182898949"
      ]
     },
     "execution_count": 30,
     "metadata": {},
     "output_type": "execute_result"
    }
   ],
   "source": [
    "depthDfT2['Layer 6 Percentage'].mean()"
   ]
  },
  {
   "cell_type": "code",
   "execution_count": 31,
   "id": "1611710e",
   "metadata": {},
   "outputs": [
    {
     "data": {
      "text/plain": [
       "1.8019721079103794"
      ]
     },
     "execution_count": 31,
     "metadata": {},
     "output_type": "execute_result"
    }
   ],
   "source": [
    "depthDfT2['Layer 7 Percentage'].mean()"
   ]
  },
  {
   "cell_type": "code",
   "execution_count": 32,
   "id": "f6d4c711",
   "metadata": {},
   "outputs": [
    {
     "data": {
      "text/plain": [
       "1.196511659807956"
      ]
     },
     "execution_count": 32,
     "metadata": {},
     "output_type": "execute_result"
    }
   ],
   "source": [
    "depthDfT2['Layer 8 Percentage'].mean()"
   ]
  },
  {
   "cell_type": "code",
   "execution_count": 33,
   "id": "298603c0",
   "metadata": {},
   "outputs": [
    {
     "data": {
      "text/plain": [
       "0.48744307270233195"
      ]
     },
     "execution_count": 33,
     "metadata": {},
     "output_type": "execute_result"
    }
   ],
   "source": [
    "depthDfT2['Layer 9 Percentage'].mean()"
   ]
  },
  {
   "cell_type": "code",
   "execution_count": 34,
   "id": "aa682268",
   "metadata": {},
   "outputs": [
    {
     "data": {
      "text/plain": [
       "0.3942139917695473"
      ]
     },
     "execution_count": 34,
     "metadata": {},
     "output_type": "execute_result"
    }
   ],
   "source": [
    "depthDfT2['Layer 10 Percentage'].mean()"
   ]
  }
 ],
 "metadata": {
  "kernelspec": {
   "display_name": "Python 3 (ipykernel)",
   "language": "python",
   "name": "python3"
  },
  "language_info": {
   "codemirror_mode": {
    "name": "ipython",
    "version": 3
   },
   "file_extension": ".py",
   "mimetype": "text/x-python",
   "name": "python",
   "nbconvert_exporter": "python",
   "pygments_lexer": "ipython3",
   "version": "3.9.6"
  }
 },
 "nbformat": 4,
 "nbformat_minor": 5
}
