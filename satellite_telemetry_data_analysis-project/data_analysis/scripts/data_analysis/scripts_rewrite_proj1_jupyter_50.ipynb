{
 "cells": [
  {
   "cell_type": "code",
   "execution_count": 1,
   "id": "2b3752fe",
   "metadata": {},
   "outputs": [],
   "source": [
    "# importing the created gps data and detph data"
   ]
  },
  {
   "cell_type": "code",
   "execution_count": 2,
   "id": "0a9ff872",
   "metadata": {},
   "outputs": [],
   "source": [
    "import os\n",
    "import pandas as pd\n",
    "import matplotlib.pyplot as plt\n",
    "import numpy as np\n",
    "from matplotlib import colors\n",
    "from matplotlib.ticker import PercentFormatter\n",
    "#from matplotlib.collections import LineCollection\n",
    "#from matplotlib.colors import ListedColormap, BoundaryNorm\n",
    "import datetime as dt"
   ]
  },
  {
   "cell_type": "code",
   "execution_count": 3,
   "id": "6ea2691b",
   "metadata": {},
   "outputs": [],
   "source": [
    "# To run with terminal OR jupyter notebook:\n",
    "DATACLEANINGRESULTS_FOLDER = \"dataCleaningResults\"\n",
    "DATACLEANINGRESULTS_FOLDER_ITENS = os.listdir(DATACLEANINGRESULTS_FOLDER)# (\"data_analysis/dataCleaningResults\")"
   ]
  },
  {
   "cell_type": "code",
   "execution_count": 4,
   "id": "9d1ffc13",
   "metadata": {},
   "outputs": [],
   "source": [
    "def addDataFromCsv(filename):\n",
    "    currentFileCsv = DATACLEANINGRESULTS_FOLDER + '/' + filename\n",
    "    df = pd.read_csv(currentFileCsv)\n",
    "    return df"
   ]
  },
  {
   "cell_type": "code",
   "execution_count": 5,
   "id": "7a0a8a8b",
   "metadata": {},
   "outputs": [],
   "source": [
    "gpsT1 = \"reliableGpsDfWithSkyIlluminationAndKmHColumn_Tag_710333a_2021_Feb.csv\"\n",
    "gpsT2 = \"reliableGpsDfWithSkyIlluminationAndKmHColumn_Tag_710348a_2021_Feb.csv\"\n",
    "depthT1 = \"depthDataSkyIlluminationAndFloatValues_Tag_710333a_2021_Feb.csv\"\n",
    "depthT2 = \"depthDataSkyIlluminationAndFloatValues_Tag_710348a_2021_Feb.csv\""
   ]
  },
  {
   "cell_type": "code",
   "execution_count": 6,
   "id": "6d3a68f8",
   "metadata": {},
   "outputs": [],
   "source": [
    "gpsDfT1 = addDataFromCsv(gpsT1)\n",
    "gpsDfT2  = addDataFromCsv(gpsT2)\n",
    "depthDfT1 = addDataFromCsv(depthT1)\n",
    "depthDfT2  = addDataFromCsv(depthT2)"
   ]
  },
  {
   "cell_type": "code",
   "execution_count": 7,
   "id": "1fd1f251",
   "metadata": {},
   "outputs": [],
   "source": [
    "#acquisitionTimes = gpsDfT1[['Acquisition Time']].to_numpy()\n",
    "#months = gpsDfT1[['Data Month']].to_numpy()\n",
    "#i=0\n",
    "#j = months[0]\n",
    "#firstDayOfMonth = []\n",
    "#firstDayOfMonth.append(acquisitionTimes[0])\n",
    "#while i < (len(acquisitionTimes)):    \n",
    "    #print(months[i])#8\n",
    "    #print(j)#7\n",
    "    #if months[i] != j:\n",
    "        #nextMonthaqcTime = acquisitionTimes[i]\n",
    "        #print(nextMonthaqcTime)\n",
    "        #firstDayOfMonth.append(nextMonthaqcTime)\n",
    "        #j = months[i]\n",
    "    #i+=1\n",
    "#print(firstDayOfMonth)"
   ]
  },
  {
   "cell_type": "code",
   "execution_count": 8,
   "id": "a7176c9d",
   "metadata": {},
   "outputs": [
    {
     "name": "stdout",
     "output_type": "stream",
     "text": [
      "[array(['2020.07.09 23:00:09'], dtype=object), array(['2020.08.01 02:11:57'], dtype=object), array(['2020.09.01 00:34:58'], dtype=object), array(['2020.10.01 00:15:21'], dtype=object), array(['2020.11.01 00:07:56'], dtype=object), array(['2020.12.01 03:04:44'], dtype=object), array(['2021.01.01 03:00:25'], dtype=object), array(['2021.02.01 02:49:59'], dtype=object), array(['2021.02.11 06:00:10'], dtype=object)]\n",
      "[array([7], dtype=int64), array([8], dtype=int64), array([9], dtype=int64), array([10], dtype=int64), array([11], dtype=int64), array([12], dtype=int64), array([1], dtype=int64), array([2], dtype=int64)]\n",
      "9\n",
      "8\n"
     ]
    }
   ],
   "source": [
    "acquisitionTimes = gpsDfT1[['Acquisition Time']].to_numpy()\n",
    "months = gpsDfT1[['Data Month']].to_numpy()\n",
    "i=0\n",
    "j = months[0]\n",
    "firstDayOfMonth = []\n",
    "toBeKeyOfMonths = []\n",
    "firstDayOfMonth.append(acquisitionTimes[0])\n",
    "toBeKeyOfMonths.append(months[0])\n",
    "#print(len(acquisitionTimes))\n",
    "while i < (len(acquisitionTimes)):    \n",
    "    #print(months[i])#8\n",
    "    #print(j)#7\n",
    "    if months[i] != j:\n",
    "        nextMonthaqcTime = acquisitionTimes[i]\n",
    "        #print(nextMonthaqcTime)\n",
    "        firstDayOfMonth.append(nextMonthaqcTime)\n",
    "        j = months[i]\n",
    "        toBeKeyOfMonths.append(j)\n",
    "    if i == len(acquisitionTimes)-1:\n",
    "        #print(i)\n",
    "        nextMonthaqcTime = acquisitionTimes[i]\n",
    "        #print(nextMonthaqcTime)\n",
    "        firstDayOfMonth.append(nextMonthaqcTime)\n",
    "        #j = months[i]\n",
    "    i+=1\n",
    "print(firstDayOfMonth)\n",
    "print(toBeKeyOfMonths)\n",
    "print(len(firstDayOfMonth))\n",
    "print(len(toBeKeyOfMonths))"
   ]
  },
  {
   "cell_type": "code",
   "execution_count": 9,
   "id": "a6f1a91b",
   "metadata": {},
   "outputs": [],
   "source": [
    "#print(firstDayOfMonth[0])\n",
    "#print(firstDayOfMonth[1])"
   ]
  },
  {
   "cell_type": "code",
   "execution_count": 10,
   "id": "a52c55d8",
   "metadata": {},
   "outputs": [],
   "source": [
    "#def convertUnixTimeFromString(timeString):\n",
    "    #return dt.datetime.strptime(timeString, '%Y.%m.%d %H:%M:%S').timestamp() #[i] is the position in an array"
   ]
  },
  {
   "cell_type": "code",
   "execution_count": 11,
   "id": "309864c4",
   "metadata": {
    "scrolled": false
   },
   "outputs": [],
   "source": [
    "#tripTimes = []\n",
    "#tripTimes.append(0)\n",
    "#i=1\n",
    "#while i < (len(firstDayOfMonth)):\n",
    "    #previous = i-1\n",
    "    #print(firstDayOfMonth[i])\n",
    "    #t1 = firstDayOfMonth[previous]\n",
    "    #t2 = firstDayOfMonth[i]\n",
    "    #print(t1)\n",
    "    #print(t2)\n",
    "    #i+=1\n",
    "    #tripTimes.append(t2-t1)\n",
    "#print(tripTimes)"
   ]
  },
  {
   "cell_type": "code",
   "execution_count": 12,
   "id": "1b588b1b",
   "metadata": {},
   "outputs": [
    {
     "name": "stdout",
     "output_type": "stream",
     "text": [
      "TimedeltaIndex(['22 days 03:11:48'], dtype='timedelta64[ns]', freq=None)\n",
      "TimedeltaIndex(['30 days 22:23:01'], dtype='timedelta64[ns]', freq=None)\n",
      "TimedeltaIndex(['29 days 23:40:23'], dtype='timedelta64[ns]', freq=None)\n",
      "TimedeltaIndex(['30 days 23:52:35'], dtype='timedelta64[ns]', freq=None)\n",
      "TimedeltaIndex(['30 days 02:56:48'], dtype='timedelta64[ns]', freq=None)\n",
      "TimedeltaIndex(['30 days 23:55:41'], dtype='timedelta64[ns]', freq=None)\n",
      "TimedeltaIndex(['30 days 23:49:34'], dtype='timedelta64[ns]', freq=None)\n",
      "TimedeltaIndex(['10 days 03:10:11'], dtype='timedelta64[ns]', freq=None)\n",
      "[TimedeltaIndex(['22 days 03:11:48'], dtype='timedelta64[ns]', freq=None), TimedeltaIndex(['30 days 22:23:01'], dtype='timedelta64[ns]', freq=None), TimedeltaIndex(['29 days 23:40:23'], dtype='timedelta64[ns]', freq=None), TimedeltaIndex(['30 days 23:52:35'], dtype='timedelta64[ns]', freq=None), TimedeltaIndex(['30 days 02:56:48'], dtype='timedelta64[ns]', freq=None), TimedeltaIndex(['30 days 23:55:41'], dtype='timedelta64[ns]', freq=None), TimedeltaIndex(['30 days 23:49:34'], dtype='timedelta64[ns]', freq=None), TimedeltaIndex(['10 days 03:10:11'], dtype='timedelta64[ns]', freq=None)]\n",
      "8\n"
     ]
    }
   ],
   "source": [
    "tripTimes = []\n",
    "#tripTimes.append(0)\n",
    "i=1\n",
    "while i < (len(firstDayOfMonth)):\n",
    "    previous = i-1\n",
    "    #print(firstDayOfMonth[i])\n",
    "    t1 = pd.to_datetime(firstDayOfMonth[previous], format='%Y.%m.%d %H:%M:%S') #remove the brackets of the values in the column\n",
    "    t2 = pd.to_datetime(firstDayOfMonth[i], format='%Y.%m.%d %H:%M:%S') #remove the brackets of the values in the column\n",
    "    \n",
    "    #t1Stamp = dt.datetime.strptime(t1, '%Y.%m.%d %H:%M:%S').timestamp()\n",
    "    #print(t1Stamp)\n",
    "    subTime = t2-t1\n",
    "    print(subTime)\n",
    "    i+=1\n",
    "    tripTimes.append(t2-t1)\n",
    "print(tripTimes)\n",
    "print(len(tripTimes))"
   ]
  },
  {
   "cell_type": "code",
   "execution_count": 13,
   "id": "18bd5baa",
   "metadata": {},
   "outputs": [
    {
     "name": "stdout",
     "output_type": "stream",
     "text": [
      "[array([7], dtype=int64), array([8], dtype=int64), array([9], dtype=int64), array([10], dtype=int64), array([11], dtype=int64), array([12], dtype=int64), array([1], dtype=int64), array([2], dtype=int64)]\n"
     ]
    }
   ],
   "source": [
    "print(toBeKeyOfMonths)"
   ]
  },
  {
   "cell_type": "code",
   "execution_count": 14,
   "id": "88a8b834",
   "metadata": {},
   "outputs": [
    {
     "name": "stdout",
     "output_type": "stream",
     "text": [
      "8\n"
     ]
    }
   ],
   "source": [
    "print(len(toBeKeyOfMonths))"
   ]
  },
  {
   "cell_type": "code",
   "execution_count": 15,
   "id": "848c52c8",
   "metadata": {},
   "outputs": [],
   "source": [
    "#print(tripTimes)"
   ]
  },
  {
   "cell_type": "code",
   "execution_count": 16,
   "id": "0378e547",
   "metadata": {},
   "outputs": [],
   "source": [
    "#print(len(tripTimes))"
   ]
  },
  {
   "cell_type": "code",
   "execution_count": 17,
   "id": "adb9da5e",
   "metadata": {},
   "outputs": [],
   "source": [
    "#type(toBeKeyOfMonths)\n",
    "#type(tripTimes)"
   ]
  },
  {
   "cell_type": "code",
   "execution_count": 18,
   "id": "4343116b",
   "metadata": {},
   "outputs": [],
   "source": [
    "#toBeKeyOfMonths[0]"
   ]
  },
  {
   "cell_type": "code",
   "execution_count": 19,
   "id": "2dc269fe",
   "metadata": {},
   "outputs": [],
   "source": [
    "#toBeKeyOfMonths[0][0]"
   ]
  },
  {
   "cell_type": "code",
   "execution_count": 20,
   "id": "64c5452f",
   "metadata": {},
   "outputs": [],
   "source": [
    "#toBeKeyOfMonths[1][0]"
   ]
  },
  {
   "cell_type": "code",
   "execution_count": 21,
   "id": "21f59ad8",
   "metadata": {},
   "outputs": [
    {
     "name": "stdout",
     "output_type": "stream",
     "text": [
      "[7, 8, 9, 10, 11, 12, 1, 2]\n"
     ]
    }
   ],
   "source": [
    "i=0\n",
    "dictKeys = []\n",
    "while i < len(toBeKeyOfMonths):\n",
    "    key = toBeKeyOfMonths[i][0] #for i, _ in enumerate(toBeKeyOfMonths)\n",
    "    #print(i)\n",
    "    #print(key)\n",
    "    dictKeys.append(key)\n",
    "    i+=1\n",
    "print(dictKeys)"
   ]
  },
  {
   "cell_type": "code",
   "execution_count": 22,
   "id": "d75fcf3a",
   "metadata": {},
   "outputs": [],
   "source": [
    "#months = [toBeKeyOfMonths[i][0] for i, _ in enumerate(toBeKeyOfMonths) while i < len(toBeKeyOfMonths)]\n",
    "#print(i)"
   ]
  },
  {
   "cell_type": "code",
   "execution_count": 23,
   "id": "4a8ce7a9",
   "metadata": {},
   "outputs": [],
   "source": [
    "#print(months)"
   ]
  },
  {
   "cell_type": "code",
   "execution_count": 24,
   "id": "ce0b48ad",
   "metadata": {},
   "outputs": [],
   "source": [
    "#tripTimes[0]"
   ]
  },
  {
   "cell_type": "code",
   "execution_count": 25,
   "id": "4ab90721",
   "metadata": {},
   "outputs": [
    {
     "name": "stdout",
     "output_type": "stream",
     "text": [
      "[Timedelta('22 days 03:11:48'), Timedelta('30 days 22:23:01'), Timedelta('29 days 23:40:23'), Timedelta('30 days 23:52:35'), Timedelta('30 days 02:56:48'), Timedelta('30 days 23:55:41'), Timedelta('30 days 23:49:34'), Timedelta('10 days 03:10:11')]\n"
     ]
    }
   ],
   "source": [
    "i=0\n",
    "dictValues = []\n",
    "while i < len(tripTimes):\n",
    "    value = tripTimes[i][0]\n",
    "    #print(i)\n",
    "    #print(value)\n",
    "    dictValues.append(value)\n",
    "    i+=1\n",
    "print(dictValues)"
   ]
  },
  {
   "cell_type": "code",
   "execution_count": 26,
   "id": "5e8764b9",
   "metadata": {},
   "outputs": [],
   "source": [
    "#times = [tripTimes[i][0] for i, _ in enumerate(toBeKeyOfMonths)] #if i not in toBeKeyOfMonths]"
   ]
  },
  {
   "cell_type": "code",
   "execution_count": 27,
   "id": "566fe015",
   "metadata": {},
   "outputs": [],
   "source": [
    "#print(times)"
   ]
  },
  {
   "cell_type": "code",
   "execution_count": 28,
   "id": "a8b0f742",
   "metadata": {},
   "outputs": [],
   "source": [
    "#print(toBeKeyOfMonths[0][0])"
   ]
  },
  {
   "cell_type": "code",
   "execution_count": 29,
   "id": "36e52a36",
   "metadata": {},
   "outputs": [],
   "source": [
    "#print(tripTimes[0][0])"
   ]
  },
  {
   "cell_type": "code",
   "execution_count": 30,
   "id": "496c266e",
   "metadata": {},
   "outputs": [],
   "source": [
    "#set(toBeKeyOfMonths)\n",
    "#set(tripTimes)"
   ]
  },
  {
   "cell_type": "code",
   "execution_count": 31,
   "id": "bef01e49",
   "metadata": {},
   "outputs": [
    {
     "name": "stdout",
     "output_type": "stream",
     "text": [
      "{7: Timedelta('22 days 03:11:48'), 8: Timedelta('30 days 22:23:01'), 9: Timedelta('29 days 23:40:23'), 10: Timedelta('30 days 23:52:35'), 11: Timedelta('30 days 02:56:48'), 12: Timedelta('30 days 23:55:41'), 1: Timedelta('30 days 23:49:34'), 2: Timedelta('10 days 03:10:11')}\n"
     ]
    }
   ],
   "source": [
    "# Get pairs of elements\n",
    "zip_iterator = zip(dictKeys, dictValues)\n",
    "# Convert to dictionary\n",
    "daysInMonths = dict(zip_iterator)\n",
    "print(daysInMonths)\n",
    "\n"
   ]
  }
 ],
 "metadata": {
  "kernelspec": {
   "display_name": "Python 3 (ipykernel)",
   "language": "python",
   "name": "python3"
  },
  "language_info": {
   "codemirror_mode": {
    "name": "ipython",
    "version": 3
   },
   "file_extension": ".py",
   "mimetype": "text/x-python",
   "name": "python",
   "nbconvert_exporter": "python",
   "pygments_lexer": "ipython3",
   "version": "3.9.6"
  }
 },
 "nbformat": 4,
 "nbformat_minor": 5
}
