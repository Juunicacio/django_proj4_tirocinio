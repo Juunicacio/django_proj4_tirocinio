{
 "cells": [
  {
   "cell_type": "code",
   "execution_count": 1,
   "id": "3d06397c",
   "metadata": {},
   "outputs": [],
   "source": [
    "# importing the created gps data and detph data"
   ]
  },
  {
   "cell_type": "code",
   "execution_count": 2,
   "id": "03007ac4",
   "metadata": {},
   "outputs": [],
   "source": [
    "import os\n",
    "import pandas as pd"
   ]
  },
  {
   "cell_type": "code",
   "execution_count": 3,
   "id": "f84aa70d",
   "metadata": {},
   "outputs": [],
   "source": [
    "# To run with terminal OR jupyter notebook:\n",
    "DATACLEANINGRESULTS_FOLDER = \"dataCleaningResults\"\n",
    "DATACLEANINGRESULTS_FOLDER_ITENS = os.listdir(DATACLEANINGRESULTS_FOLDER)# (\"data_analysis/dataCleaningResults\")"
   ]
  },
  {
   "cell_type": "code",
   "execution_count": 4,
   "id": "34808b28",
   "metadata": {},
   "outputs": [],
   "source": [
    "def addDataFromCsv(filename):\n",
    "    currentFileCsv = DATACLEANINGRESULTS_FOLDER + '/' + filename\n",
    "    df = pd.read_csv(currentFileCsv)\n",
    "    return df\n",
    "    #df.sort_values(\"Acquisition Time\", inplace = True)\n",
    "    # shows top 10 rows\n",
    "    #df.head(10)\n",
    "    # do something"
   ]
  },
  {
   "cell_type": "code",
   "execution_count": 5,
   "id": "3ec54604",
   "metadata": {},
   "outputs": [],
   "source": [
    "#for file in DATACLEANINGRESULTS_FOLDER_ITENS:\n",
    "    #print(file)"
   ]
  },
  {
   "cell_type": "code",
   "execution_count": 6,
   "id": "82ce46f1",
   "metadata": {},
   "outputs": [],
   "source": [
    "gpsT1 = \"reliableGpsDfWithSkyIlluminationAndKmHColumn_Tag_710333a_2021_Feb.csv\""
   ]
  },
  {
   "cell_type": "code",
   "execution_count": 7,
   "id": "5517e213",
   "metadata": {},
   "outputs": [],
   "source": [
    "gpsT2 = \"reliableGpsDfWithSkyIlluminationAndKmHColumn_Tag_710348a_2021_Feb.csv\""
   ]
  },
  {
   "cell_type": "code",
   "execution_count": 8,
   "id": "6e4e6c53",
   "metadata": {},
   "outputs": [],
   "source": [
    "depthT1 = \"depthDataWithApprxCoordDfWithSkyIllumination_Tag_710333a_2021_Feb.csv\""
   ]
  },
  {
   "cell_type": "code",
   "execution_count": 9,
   "id": "d9e451ae",
   "metadata": {},
   "outputs": [],
   "source": [
    "depthT2 = \"depthDataWithApprxCoordDfWithSkyIllumination_Tag_710348a_2021_Feb.csv\""
   ]
  },
  {
   "cell_type": "code",
   "execution_count": 10,
   "id": "1d870c25",
   "metadata": {},
   "outputs": [],
   "source": [
    "# importing gps data of each turtle"
   ]
  },
  {
   "cell_type": "code",
   "execution_count": 11,
   "id": "af91eb1c",
   "metadata": {},
   "outputs": [],
   "source": [
    "gpsDfT1 = addDataFromCsv(gpsT1)"
   ]
  },
  {
   "cell_type": "code",
   "execution_count": 12,
   "id": "6f373235",
   "metadata": {},
   "outputs": [],
   "source": [
    "gpsDfT2  = addDataFromCsv(gpsT2)"
   ]
  },
  {
   "cell_type": "code",
   "execution_count": 13,
   "id": "be86c833",
   "metadata": {},
   "outputs": [],
   "source": [
    "# importing depth data of each turtle"
   ]
  },
  {
   "cell_type": "code",
   "execution_count": 14,
   "id": "18c925ad",
   "metadata": {},
   "outputs": [],
   "source": [
    "depthDfT1 = addDataFromCsv(depthT1)"
   ]
  },
  {
   "cell_type": "code",
   "execution_count": 15,
   "id": "5502d24b",
   "metadata": {},
   "outputs": [],
   "source": [
    "depthDfT2  = addDataFromCsv(depthT2)"
   ]
  },
  {
   "cell_type": "code",
   "execution_count": 16,
   "id": "c644579d",
   "metadata": {},
   "outputs": [
    {
     "data": {
      "text/html": [
       "<div>\n",
       "<style scoped>\n",
       "    .dataframe tbody tr th:only-of-type {\n",
       "        vertical-align: middle;\n",
       "    }\n",
       "\n",
       "    .dataframe tbody tr th {\n",
       "        vertical-align: top;\n",
       "    }\n",
       "\n",
       "    .dataframe thead th {\n",
       "        text-align: right;\n",
       "    }\n",
       "</style>\n",
       "<table border=\"1\" class=\"dataframe\">\n",
       "  <thead>\n",
       "    <tr style=\"text-align: right;\">\n",
       "      <th></th>\n",
       "      <th>Reliable Speed ID</th>\n",
       "      <th>All GPS's Track ID</th>\n",
       "      <th>Acquisition Time</th>\n",
       "      <th>Acquisition Start Time</th>\n",
       "      <th>GPS Fix Time</th>\n",
       "      <th>GPS Fix Attempt</th>\n",
       "      <th>GPS Latitude</th>\n",
       "      <th>GPS Longitude</th>\n",
       "      <th>Distance (m)</th>\n",
       "      <th>Time (s)</th>\n",
       "      <th>Speed m/s</th>\n",
       "      <th>Time (h)</th>\n",
       "      <th>Daylight</th>\n",
       "      <th>Position Dawn time</th>\n",
       "      <th>Position Dusk Time</th>\n",
       "      <th>Data Month</th>\n",
       "      <th>Data Year</th>\n",
       "      <th>Speed km/h</th>\n",
       "    </tr>\n",
       "  </thead>\n",
       "  <tbody>\n",
       "    <tr>\n",
       "      <th>0</th>\n",
       "      <td>1</td>\n",
       "      <td>25</td>\n",
       "      <td>2020.07.09 23:00:09</td>\n",
       "      <td>2020.07.09 23:00:00</td>\n",
       "      <td>2020.07.09 23:00:09</td>\n",
       "      <td>Resolved QFP (Uncertain)</td>\n",
       "      <td>37.930044</td>\n",
       "      <td>16.068138</td>\n",
       "      <td>0.000000</td>\n",
       "      <td>0.0</td>\n",
       "      <td>0.000000</td>\n",
       "      <td>0 days 00:00:00</td>\n",
       "      <td>False</td>\n",
       "      <td>2020-07-09 03:10:20.485364+00:00</td>\n",
       "      <td>2020-07-09 18:51:23.473037+00:00</td>\n",
       "      <td>7</td>\n",
       "      <td>2020</td>\n",
       "      <td>0.000000</td>\n",
       "    </tr>\n",
       "    <tr>\n",
       "      <th>1</th>\n",
       "      <td>2</td>\n",
       "      <td>26</td>\n",
       "      <td>2020.07.09 23:30:12</td>\n",
       "      <td>2020.07.09 23:30:00</td>\n",
       "      <td>2020.07.09 23:30:12</td>\n",
       "      <td>Resolved QFP</td>\n",
       "      <td>37.930187</td>\n",
       "      <td>16.068178</td>\n",
       "      <td>16.257208</td>\n",
       "      <td>1803.0</td>\n",
       "      <td>0.009017</td>\n",
       "      <td>0 days 00:30:03</td>\n",
       "      <td>False</td>\n",
       "      <td>2020-07-09 03:10:20.445827+00:00</td>\n",
       "      <td>2020-07-09 18:51:23.493220+00:00</td>\n",
       "      <td>7</td>\n",
       "      <td>2020</td>\n",
       "      <td>0.032460</td>\n",
       "    </tr>\n",
       "    <tr>\n",
       "      <th>2</th>\n",
       "      <td>3</td>\n",
       "      <td>27</td>\n",
       "      <td>2020.07.10 00:30:08</td>\n",
       "      <td>2020.07.10 00:30:00</td>\n",
       "      <td>2020.07.10 00:30:08</td>\n",
       "      <td>Resolved QFP</td>\n",
       "      <td>37.931116</td>\n",
       "      <td>16.069576</td>\n",
       "      <td>160.431667</td>\n",
       "      <td>3596.0</td>\n",
       "      <td>0.044614</td>\n",
       "      <td>0 days 00:59:56</td>\n",
       "      <td>False</td>\n",
       "      <td>2020-07-10 03:11:01.436174+00:00</td>\n",
       "      <td>2020-07-10 18:50:57.628461+00:00</td>\n",
       "      <td>7</td>\n",
       "      <td>2020</td>\n",
       "      <td>0.160610</td>\n",
       "    </tr>\n",
       "    <tr>\n",
       "      <th>3</th>\n",
       "      <td>4</td>\n",
       "      <td>28</td>\n",
       "      <td>2020.07.10 01:00:08</td>\n",
       "      <td>2020.07.10 01:00:00</td>\n",
       "      <td>2020.07.10 01:00:08</td>\n",
       "      <td>Resolved QFP</td>\n",
       "      <td>37.931058</td>\n",
       "      <td>16.069576</td>\n",
       "      <td>6.437720</td>\n",
       "      <td>1800.0</td>\n",
       "      <td>0.003577</td>\n",
       "      <td>0 days 00:30:00</td>\n",
       "      <td>False</td>\n",
       "      <td>2020-07-10 03:11:01.448234+00:00</td>\n",
       "      <td>2020-07-10 18:50:57.616466+00:00</td>\n",
       "      <td>7</td>\n",
       "      <td>2020</td>\n",
       "      <td>0.012875</td>\n",
       "    </tr>\n",
       "    <tr>\n",
       "      <th>4</th>\n",
       "      <td>5</td>\n",
       "      <td>29</td>\n",
       "      <td>2020.07.10 01:30:07</td>\n",
       "      <td>2020.07.10 01:30:00</td>\n",
       "      <td>2020.07.10 01:30:07</td>\n",
       "      <td>Resolved QFP</td>\n",
       "      <td>37.931116</td>\n",
       "      <td>16.069615</td>\n",
       "      <td>7.293834</td>\n",
       "      <td>1799.0</td>\n",
       "      <td>0.004054</td>\n",
       "      <td>0 days 00:29:59</td>\n",
       "      <td>False</td>\n",
       "      <td>2020-07-10 03:11:01.426810+00:00</td>\n",
       "      <td>2020-07-10 18:50:57.619104+00:00</td>\n",
       "      <td>7</td>\n",
       "      <td>2020</td>\n",
       "      <td>0.014596</td>\n",
       "    </tr>\n",
       "    <tr>\n",
       "      <th>5</th>\n",
       "      <td>6</td>\n",
       "      <td>30</td>\n",
       "      <td>2020.07.10 02:00:08</td>\n",
       "      <td>2020.07.10 02:00:00</td>\n",
       "      <td>2020.07.10 02:00:08</td>\n",
       "      <td>Resolved QFP</td>\n",
       "      <td>37.931174</td>\n",
       "      <td>16.069640</td>\n",
       "      <td>6.802561</td>\n",
       "      <td>1801.0</td>\n",
       "      <td>0.003777</td>\n",
       "      <td>0 days 00:30:01</td>\n",
       "      <td>False</td>\n",
       "      <td>2020-07-10 03:11:01.408747+00:00</td>\n",
       "      <td>2020-07-10 18:50:57.625101+00:00</td>\n",
       "      <td>7</td>\n",
       "      <td>2020</td>\n",
       "      <td>0.013598</td>\n",
       "    </tr>\n",
       "    <tr>\n",
       "      <th>6</th>\n",
       "      <td>7</td>\n",
       "      <td>31</td>\n",
       "      <td>2020.07.10 03:02:21</td>\n",
       "      <td>2020.07.10 03:00:00</td>\n",
       "      <td>2020.07.10 03:02:21</td>\n",
       "      <td>Resolved QFP</td>\n",
       "      <td>37.926526</td>\n",
       "      <td>16.070751</td>\n",
       "      <td>525.070436</td>\n",
       "      <td>3733.0</td>\n",
       "      <td>0.140656</td>\n",
       "      <td>0 days 01:02:13</td>\n",
       "      <td>False</td>\n",
       "      <td>2020-07-10 03:11:02.108342+00:00</td>\n",
       "      <td>2020-07-10 18:50:56.397354+00:00</td>\n",
       "      <td>7</td>\n",
       "      <td>2020</td>\n",
       "      <td>0.506363</td>\n",
       "    </tr>\n",
       "    <tr>\n",
       "      <th>7</th>\n",
       "      <td>8</td>\n",
       "      <td>32</td>\n",
       "      <td>2020.07.10 03:43:05</td>\n",
       "      <td>2020.07.10 03:30:00</td>\n",
       "      <td>2020.07.10 03:43:05</td>\n",
       "      <td>Resolved QFP</td>\n",
       "      <td>37.921882</td>\n",
       "      <td>16.070621</td>\n",
       "      <td>515.587689</td>\n",
       "      <td>2444.0</td>\n",
       "      <td>0.210961</td>\n",
       "      <td>0 days 00:40:44</td>\n",
       "      <td>True</td>\n",
       "      <td>2020-07-10 03:11:03.104918+00:00</td>\n",
       "      <td>2020-07-10 18:50:55.468353+00:00</td>\n",
       "      <td>7</td>\n",
       "      <td>2020</td>\n",
       "      <td>0.759458</td>\n",
       "    </tr>\n",
       "    <tr>\n",
       "      <th>8</th>\n",
       "      <td>9</td>\n",
       "      <td>33</td>\n",
       "      <td>2020.07.10 05:12:33</td>\n",
       "      <td>2020.07.10 05:00:00</td>\n",
       "      <td>2020.07.10 05:12:33</td>\n",
       "      <td>Resolved QFP</td>\n",
       "      <td>37.919837</td>\n",
       "      <td>16.048652</td>\n",
       "      <td>1944.953617</td>\n",
       "      <td>5368.0</td>\n",
       "      <td>0.362324</td>\n",
       "      <td>0 days 01:29:28</td>\n",
       "      <td>True</td>\n",
       "      <td>2020-07-10 03:11:08.805090+00:00</td>\n",
       "      <td>2020-07-10 18:51:00.316514+00:00</td>\n",
       "      <td>7</td>\n",
       "      <td>2020</td>\n",
       "      <td>1.304365</td>\n",
       "    </tr>\n",
       "    <tr>\n",
       "      <th>9</th>\n",
       "      <td>10</td>\n",
       "      <td>34</td>\n",
       "      <td>2020.07.10 05:34:02</td>\n",
       "      <td>2020.07.10 05:30:00</td>\n",
       "      <td>2020.07.10 05:34:02</td>\n",
       "      <td>Resolved QFP</td>\n",
       "      <td>37.919332</td>\n",
       "      <td>16.048329</td>\n",
       "      <td>62.836971</td>\n",
       "      <td>1289.0</td>\n",
       "      <td>0.048749</td>\n",
       "      <td>0 days 00:21:29</td>\n",
       "      <td>True</td>\n",
       "      <td>2020-07-10 03:11:08.987604+00:00</td>\n",
       "      <td>2020-07-10 18:51:00.289615+00:00</td>\n",
       "      <td>7</td>\n",
       "      <td>2020</td>\n",
       "      <td>0.175495</td>\n",
       "    </tr>\n",
       "  </tbody>\n",
       "</table>\n",
       "</div>"
      ],
      "text/plain": [
       "   Reliable Speed ID  All GPS's Track ID     Acquisition Time  \\\n",
       "0                  1                  25  2020.07.09 23:00:09   \n",
       "1                  2                  26  2020.07.09 23:30:12   \n",
       "2                  3                  27  2020.07.10 00:30:08   \n",
       "3                  4                  28  2020.07.10 01:00:08   \n",
       "4                  5                  29  2020.07.10 01:30:07   \n",
       "5                  6                  30  2020.07.10 02:00:08   \n",
       "6                  7                  31  2020.07.10 03:02:21   \n",
       "7                  8                  32  2020.07.10 03:43:05   \n",
       "8                  9                  33  2020.07.10 05:12:33   \n",
       "9                 10                  34  2020.07.10 05:34:02   \n",
       "\n",
       "  Acquisition Start Time         GPS Fix Time           GPS Fix Attempt  \\\n",
       "0    2020.07.09 23:00:00  2020.07.09 23:00:09  Resolved QFP (Uncertain)   \n",
       "1    2020.07.09 23:30:00  2020.07.09 23:30:12              Resolved QFP   \n",
       "2    2020.07.10 00:30:00  2020.07.10 00:30:08              Resolved QFP   \n",
       "3    2020.07.10 01:00:00  2020.07.10 01:00:08              Resolved QFP   \n",
       "4    2020.07.10 01:30:00  2020.07.10 01:30:07              Resolved QFP   \n",
       "5    2020.07.10 02:00:00  2020.07.10 02:00:08              Resolved QFP   \n",
       "6    2020.07.10 03:00:00  2020.07.10 03:02:21              Resolved QFP   \n",
       "7    2020.07.10 03:30:00  2020.07.10 03:43:05              Resolved QFP   \n",
       "8    2020.07.10 05:00:00  2020.07.10 05:12:33              Resolved QFP   \n",
       "9    2020.07.10 05:30:00  2020.07.10 05:34:02              Resolved QFP   \n",
       "\n",
       "   GPS Latitude  GPS Longitude  Distance (m)  Time (s)  Speed m/s  \\\n",
       "0     37.930044      16.068138      0.000000       0.0   0.000000   \n",
       "1     37.930187      16.068178     16.257208    1803.0   0.009017   \n",
       "2     37.931116      16.069576    160.431667    3596.0   0.044614   \n",
       "3     37.931058      16.069576      6.437720    1800.0   0.003577   \n",
       "4     37.931116      16.069615      7.293834    1799.0   0.004054   \n",
       "5     37.931174      16.069640      6.802561    1801.0   0.003777   \n",
       "6     37.926526      16.070751    525.070436    3733.0   0.140656   \n",
       "7     37.921882      16.070621    515.587689    2444.0   0.210961   \n",
       "8     37.919837      16.048652   1944.953617    5368.0   0.362324   \n",
       "9     37.919332      16.048329     62.836971    1289.0   0.048749   \n",
       "\n",
       "          Time (h)  Daylight                Position Dawn time  \\\n",
       "0  0 days 00:00:00     False  2020-07-09 03:10:20.485364+00:00   \n",
       "1  0 days 00:30:03     False  2020-07-09 03:10:20.445827+00:00   \n",
       "2  0 days 00:59:56     False  2020-07-10 03:11:01.436174+00:00   \n",
       "3  0 days 00:30:00     False  2020-07-10 03:11:01.448234+00:00   \n",
       "4  0 days 00:29:59     False  2020-07-10 03:11:01.426810+00:00   \n",
       "5  0 days 00:30:01     False  2020-07-10 03:11:01.408747+00:00   \n",
       "6  0 days 01:02:13     False  2020-07-10 03:11:02.108342+00:00   \n",
       "7  0 days 00:40:44      True  2020-07-10 03:11:03.104918+00:00   \n",
       "8  0 days 01:29:28      True  2020-07-10 03:11:08.805090+00:00   \n",
       "9  0 days 00:21:29      True  2020-07-10 03:11:08.987604+00:00   \n",
       "\n",
       "                 Position Dusk Time  Data Month  Data Year  Speed km/h  \n",
       "0  2020-07-09 18:51:23.473037+00:00           7       2020    0.000000  \n",
       "1  2020-07-09 18:51:23.493220+00:00           7       2020    0.032460  \n",
       "2  2020-07-10 18:50:57.628461+00:00           7       2020    0.160610  \n",
       "3  2020-07-10 18:50:57.616466+00:00           7       2020    0.012875  \n",
       "4  2020-07-10 18:50:57.619104+00:00           7       2020    0.014596  \n",
       "5  2020-07-10 18:50:57.625101+00:00           7       2020    0.013598  \n",
       "6  2020-07-10 18:50:56.397354+00:00           7       2020    0.506363  \n",
       "7  2020-07-10 18:50:55.468353+00:00           7       2020    0.759458  \n",
       "8  2020-07-10 18:51:00.316514+00:00           7       2020    1.304365  \n",
       "9  2020-07-10 18:51:00.289615+00:00           7       2020    0.175495  "
      ]
     },
     "execution_count": 16,
     "metadata": {},
     "output_type": "execute_result"
    }
   ],
   "source": [
    "gpsDfT1.head(10)"
   ]
  },
  {
   "cell_type": "code",
   "execution_count": 17,
   "id": "f8558e69",
   "metadata": {},
   "outputs": [],
   "source": [
    "# Average of Turtle 1 speed in m/s"
   ]
  },
  {
   "cell_type": "code",
   "execution_count": 18,
   "id": "ceea487a",
   "metadata": {},
   "outputs": [
    {
     "name": "stdout",
     "output_type": "stream",
     "text": [
      "0.26814161013418664\n"
     ]
    }
   ],
   "source": [
    "speedInMsT1 = gpsDfT1['Speed m/s'].mean()\n",
    "print(speedInMsT1)"
   ]
  },
  {
   "cell_type": "code",
   "execution_count": 19,
   "id": "1eb6f146",
   "metadata": {},
   "outputs": [],
   "source": [
    "# Average of Turtle 1 speed in k/h"
   ]
  },
  {
   "cell_type": "code",
   "execution_count": 20,
   "id": "8a64e3ba",
   "metadata": {},
   "outputs": [
    {
     "name": "stdout",
     "output_type": "stream",
     "text": [
      "0.9653097964830719\n"
     ]
    }
   ],
   "source": [
    "speedInKmT1 = speedInMsT1 * 3600/1000\n",
    "print(speedInKmT1)"
   ]
  },
  {
   "cell_type": "code",
   "execution_count": 21,
   "id": "c14ca0bf",
   "metadata": {},
   "outputs": [],
   "source": [
    "# Average of Turtle 2 speed in m/s"
   ]
  },
  {
   "cell_type": "code",
   "execution_count": 22,
   "id": "3938d7f7",
   "metadata": {},
   "outputs": [
    {
     "name": "stdout",
     "output_type": "stream",
     "text": [
      "0.25795600612863484\n"
     ]
    }
   ],
   "source": [
    "speedInMsT2 = gpsDfT2['Speed m/s'].mean()\n",
    "print(speedInMsT2)"
   ]
  },
  {
   "cell_type": "code",
   "execution_count": 23,
   "id": "3ac3b810",
   "metadata": {},
   "outputs": [],
   "source": [
    "# Average of Turtle 2 speed in k/h"
   ]
  },
  {
   "cell_type": "code",
   "execution_count": 24,
   "id": "e4f28769",
   "metadata": {},
   "outputs": [
    {
     "name": "stdout",
     "output_type": "stream",
     "text": [
      "0.9286416220630854\n"
     ]
    }
   ],
   "source": [
    "speedInKmT2 = speedInMsT2 * 3600/1000\n",
    "print(speedInKmT2)"
   ]
  },
  {
   "cell_type": "code",
   "execution_count": 25,
   "id": "3d59e14a",
   "metadata": {},
   "outputs": [
    {
     "data": {
      "text/plain": [
       "<AxesSubplot:ylabel='Frequency'>"
      ]
     },
     "execution_count": 25,
     "metadata": {},
     "output_type": "execute_result"
    },
    {
     "data": {
      "image/png": "[encoded data removed]",
      "text/plain": [
       "<Figure size 432x288 with 1 Axes>"
      ]
     },
     "metadata": {
      "needs_background": "light"
     },
     "output_type": "display_data"
    }
   ],
   "source": [
    "gpsDfT1['Speed m/s'].plot.hist()"
   ]
  },
  {
   "cell_type": "code",
   "execution_count": 26,
   "id": "fda11216",
   "metadata": {},
   "outputs": [
    {
     "data": {
      "text/plain": [
       "<AxesSubplot:ylabel='Frequency'>"
      ]
     },
     "execution_count": 26,
     "metadata": {},
     "output_type": "execute_result"
    },
    {
     "data": {
      "image/png": "[encoded data removed]",
      "text/plain": [
       "<Figure size 432x288 with 1 Axes>"
      ]
     },
     "metadata": {
      "needs_background": "light"
     },
     "output_type": "display_data"
    }
   ],
   "source": [
    "gpsDfT2['Speed m/s'].plot.hist()"
   ]
  },
  {
   "cell_type": "code",
   "execution_count": 27,
   "id": "a50285a6",
   "metadata": {},
   "outputs": [
    {
     "data": {
      "text/plain": [
       "0.965309796483072"
      ]
     },
     "execution_count": 27,
     "metadata": {},
     "output_type": "execute_result"
    }
   ],
   "source": [
    "gpsDfT1['Speed km/h'].mean()"
   ]
  },
  {
   "cell_type": "code",
   "execution_count": 28,
   "id": "8cd49e25",
   "metadata": {},
   "outputs": [
    {
     "data": {
      "text/plain": [
       "0.9286416220630853"
      ]
     },
     "execution_count": 28,
     "metadata": {},
     "output_type": "execute_result"
    }
   ],
   "source": [
    "gpsDfT2['Speed km/h'].mean()"
   ]
  },
  {
   "cell_type": "code",
   "execution_count": 29,
   "id": "59cf8bc7",
   "metadata": {},
   "outputs": [],
   "source": [
    "import matplotlib.pyplot as plt "
   ]
  },
  {
   "cell_type": "code",
   "execution_count": 30,
   "id": "8601d336",
   "metadata": {},
   "outputs": [],
   "source": [
    "# Generate data on commute times.\n",
    "size, scale = 1000, 10"
   ]
  },
  {
   "cell_type": "code",
   "execution_count": 31,
   "id": "f83b9bf8",
   "metadata": {},
   "outputs": [
    {
     "data": {
      "image/png": "[encoded data removed]",
      "text/plain": [
       "<Figure size 432x288 with 1 Axes>"
      ]
     },
     "metadata": {
      "needs_background": "light"
     },
     "output_type": "display_data"
    }
   ],
   "source": [
    "commutes1 = gpsDfT1['Speed m/s']\n",
    "\n",
    "commutes1.plot.hist(grid=True, bins=20, rwidth=0.9,\n",
    "                   color='#607c8e')\n",
    "plt.title('Commute Times for 1,000 Commuters')\n",
    "plt.xlabel('Counts')\n",
    "plt.ylabel('Commute Time')\n",
    "plt.grid(axis='y', alpha=0.75)\n"
   ]
  },
  {
   "cell_type": "code",
   "execution_count": 32,
   "id": "9ee0d8cf",
   "metadata": {},
   "outputs": [
    {
     "data": {
      "image/png": "[encoded data removed]",
      "text/plain": [
       "<Figure size 432x288 with 1 Axes>"
      ]
     },
     "metadata": {
      "needs_background": "light"
     },
     "output_type": "display_data"
    }
   ],
   "source": [
    "commutes2 = gpsDfT2['Speed m/s']\n",
    "\n",
    "commutes2.plot.hist(grid=True, bins=20, rwidth=0.9,\n",
    "                   color='#607c8e')\n",
    "plt.title('Commute Times for 1,000 Commuters')\n",
    "plt.xlabel('Counts')\n",
    "plt.ylabel('Commute Time')\n",
    "plt.grid(axis='y', alpha=0.75)"
   ]
  },
  {
   "cell_type": "code",
   "execution_count": 33,
   "id": "c15dfb5a",
   "metadata": {},
   "outputs": [],
   "source": [
    "# Sample of normal distributions TURTLE 1"
   ]
  },
  {
   "cell_type": "code",
   "execution_count": 34,
   "id": "a11567d1",
   "metadata": {},
   "outputs": [],
   "source": [
    "# Speed m/s"
   ]
  },
  {
   "cell_type": "code",
   "execution_count": 35,
   "id": "31f44f5c",
   "metadata": {},
   "outputs": [
    {
     "data": {
      "text/plain": [
       "min     0.00\n",
       "max     1.08\n",
       "mean    0.27\n",
       "std     0.18\n",
       "Name: Speed m/s, dtype: float64"
      ]
     },
     "execution_count": 35,
     "metadata": {},
     "output_type": "execute_result"
    }
   ],
   "source": [
    "means = 10, 20\n",
    "stdevs = 4, 2\n",
    "distMsT1 = gpsDfT1['Speed m/s']\n",
    "distMsT1.agg(['min', 'max', 'mean', 'std']).round(decimals=2)"
   ]
  },
  {
   "cell_type": "code",
   "execution_count": 36,
   "id": "851ca122",
   "metadata": {},
   "outputs": [],
   "source": [
    "# Speed km/h"
   ]
  },
  {
   "cell_type": "code",
   "execution_count": 37,
   "id": "595790bc",
   "metadata": {},
   "outputs": [
    {
     "data": {
      "text/plain": [
       "min     0.00\n",
       "max     3.89\n",
       "mean    0.97\n",
       "std     0.65\n",
       "Name: Speed km/h, dtype: float64"
      ]
     },
     "execution_count": 37,
     "metadata": {},
     "output_type": "execute_result"
    }
   ],
   "source": [
    "means = 10, 20\n",
    "stdevs = 4, 2\n",
    "distKhT1 = gpsDfT1['Speed km/h']\n",
    "distKhT1.agg(['min', 'max', 'mean', 'std']).round(decimals=2)"
   ]
  },
  {
   "cell_type": "code",
   "execution_count": 38,
   "id": "c10c33cb",
   "metadata": {},
   "outputs": [],
   "source": [
    "# Sample of normal distributions TURTLE 2"
   ]
  },
  {
   "cell_type": "code",
   "execution_count": 39,
   "id": "14aa493d",
   "metadata": {},
   "outputs": [],
   "source": [
    "# Speed m/s"
   ]
  },
  {
   "cell_type": "code",
   "execution_count": 40,
   "id": "c389e5c3",
   "metadata": {},
   "outputs": [
    {
     "data": {
      "text/plain": [
       "min     0.00\n",
       "max     0.94\n",
       "mean    0.26\n",
       "std     0.15\n",
       "Name: Speed m/s, dtype: float64"
      ]
     },
     "execution_count": 40,
     "metadata": {},
     "output_type": "execute_result"
    }
   ],
   "source": [
    "means = 10, 20\n",
    "stdevs = 4, 2\n",
    "distMsT2 = gpsDfT2['Speed m/s']\n",
    "distMsT2.agg(['min', 'max', 'mean', 'std']).round(decimals=2)"
   ]
  },
  {
   "cell_type": "code",
   "execution_count": 41,
   "id": "02c454b1",
   "metadata": {},
   "outputs": [],
   "source": [
    "# Speed km/h"
   ]
  },
  {
   "cell_type": "code",
   "execution_count": 42,
   "id": "150ad3e9",
   "metadata": {},
   "outputs": [
    {
     "data": {
      "text/plain": [
       "min     0.00\n",
       "max     3.39\n",
       "mean    0.93\n",
       "std     0.55\n",
       "Name: Speed km/h, dtype: float64"
      ]
     },
     "execution_count": 42,
     "metadata": {},
     "output_type": "execute_result"
    }
   ],
   "source": [
    "means = 10, 20\n",
    "stdevs = 4, 2\n",
    "distKhT2 = gpsDfT2['Speed km/h']\n",
    "distKhT2.agg(['min', 'max', 'mean', 'std']).round(decimals=2)"
   ]
  },
  {
   "cell_type": "code",
   "execution_count": 43,
   "id": "51f75724",
   "metadata": {},
   "outputs": [
    {
     "data": {
      "image/png": "[encoded data removed]",
      "text/plain": [
       "<Figure size 432x288 with 1 Axes>"
      ]
     },
     "metadata": {
      "needs_background": "light"
     },
     "output_type": "display_data"
    }
   ],
   "source": [
    "fig, ax = plt.subplots()\n",
    "distMsT1.plot.kde(ax=ax, legend=False, title='Histogram: A vs. B')\n",
    "distMsT1.plot.hist(density=True, ax=ax)\n",
    "ax.set_ylabel('Probability')\n",
    "ax.grid(axis='y')\n",
    "ax.set_facecolor('#d8dcd6')"
   ]
  },
  {
   "cell_type": "code",
   "execution_count": 44,
   "id": "1ca09285",
   "metadata": {},
   "outputs": [
    {
     "data": {
      "text/html": [
       "<div>\n",
       "<style scoped>\n",
       "    .dataframe tbody tr th:only-of-type {\n",
       "        vertical-align: middle;\n",
       "    }\n",
       "\n",
       "    .dataframe tbody tr th {\n",
       "        vertical-align: top;\n",
       "    }\n",
       "\n",
       "    .dataframe thead th {\n",
       "        text-align: right;\n",
       "    }\n",
       "</style>\n",
       "<table border=\"1\" class=\"dataframe\">\n",
       "  <thead>\n",
       "    <tr style=\"text-align: right;\">\n",
       "      <th></th>\n",
       "      <th>T1 Speed m/s</th>\n",
       "      <th>T2 Speed m/s</th>\n",
       "    </tr>\n",
       "  </thead>\n",
       "  <tbody>\n",
       "    <tr>\n",
       "      <th>min</th>\n",
       "      <td>0.00</td>\n",
       "      <td>0.00</td>\n",
       "    </tr>\n",
       "    <tr>\n",
       "      <th>max</th>\n",
       "      <td>1.08</td>\n",
       "      <td>0.94</td>\n",
       "    </tr>\n",
       "    <tr>\n",
       "      <th>mean</th>\n",
       "      <td>0.27</td>\n",
       "      <td>0.26</td>\n",
       "    </tr>\n",
       "    <tr>\n",
       "      <th>std</th>\n",
       "      <td>0.18</td>\n",
       "      <td>0.15</td>\n",
       "    </tr>\n",
       "  </tbody>\n",
       "</table>\n",
       "</div>"
      ],
      "text/plain": [
       "      T1 Speed m/s  T2 Speed m/s\n",
       "min           0.00          0.00\n",
       "max           1.08          0.94\n",
       "mean          0.27          0.26\n",
       "std           0.18          0.15"
      ]
     },
     "execution_count": 44,
     "metadata": {},
     "output_type": "execute_result"
    }
   ],
   "source": [
    "# Sample of both turtle normal distributions\n",
    "means = 10, 20\n",
    "stdevs = 4, 2\n",
    "distBothMs = pd.DataFrame({ 'T1 Speed m/s': gpsDfT1['Speed m/s'], 'T2 Speed m/s': gpsDfT2['Speed m/s']})\n",
    "distBothMs.agg(['min', 'max', 'mean', 'std']).round(decimals=2)"
   ]
  },
  {
   "cell_type": "code",
   "execution_count": 45,
   "id": "a0ba22f0",
   "metadata": {},
   "outputs": [
    {
     "data": {
      "text/html": [
       "<div>\n",
       "<style scoped>\n",
       "    .dataframe tbody tr th:only-of-type {\n",
       "        vertical-align: middle;\n",
       "    }\n",
       "\n",
       "    .dataframe tbody tr th {\n",
       "        vertical-align: top;\n",
       "    }\n",
       "\n",
       "    .dataframe thead th {\n",
       "        text-align: right;\n",
       "    }\n",
       "</style>\n",
       "<table border=\"1\" class=\"dataframe\">\n",
       "  <thead>\n",
       "    <tr style=\"text-align: right;\">\n",
       "      <th></th>\n",
       "      <th>T1 Speed km/h</th>\n",
       "      <th>T2 Speed km/h</th>\n",
       "    </tr>\n",
       "  </thead>\n",
       "  <tbody>\n",
       "    <tr>\n",
       "      <th>min</th>\n",
       "      <td>0.00</td>\n",
       "      <td>0.00</td>\n",
       "    </tr>\n",
       "    <tr>\n",
       "      <th>max</th>\n",
       "      <td>3.89</td>\n",
       "      <td>3.39</td>\n",
       "    </tr>\n",
       "    <tr>\n",
       "      <th>mean</th>\n",
       "      <td>0.97</td>\n",
       "      <td>0.93</td>\n",
       "    </tr>\n",
       "    <tr>\n",
       "      <th>std</th>\n",
       "      <td>0.65</td>\n",
       "      <td>0.55</td>\n",
       "    </tr>\n",
       "  </tbody>\n",
       "</table>\n",
       "</div>"
      ],
      "text/plain": [
       "      T1 Speed km/h  T2 Speed km/h\n",
       "min            0.00           0.00\n",
       "max            3.89           3.39\n",
       "mean           0.97           0.93\n",
       "std            0.65           0.55"
      ]
     },
     "execution_count": 45,
     "metadata": {},
     "output_type": "execute_result"
    }
   ],
   "source": [
    "# Sample of both turtle normal distributions\n",
    "#means = 10, 20\n",
    "#stdevs = 4, 2\n",
    "distBothKh = pd.DataFrame({ 'T1 Speed km/h': gpsDfT1['Speed km/h'], 'T2 Speed km/h': gpsDfT2['Speed km/h']})\n",
    "distBothKh.agg(['min', 'max', 'mean', 'std']).round(decimals=2)"
   ]
  },
  {
   "cell_type": "code",
   "execution_count": 46,
   "id": "1e3999e0",
   "metadata": {},
   "outputs": [],
   "source": [
    "#fig, ax = plt.subplots()\n",
    "#distBothKh.plot.kde(ax=ax, legend=True, title='Histogram')\n",
    "#distBothMs.plot.hist(density=True, ax=ax)\n",
    "#ax.set_ylabel('Probability')\n",
    "#ax.grid(axis='y')\n",
    "#ax.set_facecolor('#d8dcd6')"
   ]
  },
  {
   "cell_type": "code",
   "execution_count": 47,
   "id": "b0931c2a",
   "metadata": {},
   "outputs": [
    {
     "data": {
      "image/png": "[encoded data removed]",
      "text/plain": [
       "<Figure size 432x288 with 1 Axes>"
      ]
     },
     "metadata": {
      "needs_background": "light"
     },
     "output_type": "display_data"
    }
   ],
   "source": [
    "fig, ax = plt.subplots()\n",
    "distBothKh.plot(ax=ax, legend=True, title='Histogram')\n",
    "ax.set_ylabel('Speed km/h')\n",
    "ax.grid(axis='y')"
   ]
  },
  {
   "cell_type": "code",
   "execution_count": 49,
   "id": "01c63913",
   "metadata": {},
   "outputs": [
    {
     "data": {
      "image/png": "[encoded data removed]",
      "text/plain": [
       "<Figure size 432x288 with 1 Axes>"
      ]
     },
     "metadata": {
      "needs_background": "light"
     },
     "output_type": "display_data"
    }
   ],
   "source": [
    "plt.scatter(gpsDfT1['Data Month'], gpsDfT1['Speed km/h'], c=gpsDfT1['Daylight'], ec='k')\n",
    "plt.show()"
   ]
  },
  {
   "cell_type": "code",
   "execution_count": 51,
   "id": "7cf7bda3",
   "metadata": {},
   "outputs": [
    {
     "data": {
      "image/png": "[encoded data removed]",
      "text/plain": [
       "<Figure size 432x288 with 1 Axes>"
      ]
     },
     "metadata": {
      "needs_background": "light"
     },
     "output_type": "display_data"
    }
   ],
   "source": [
    "scatter = plt.scatter(gpsDfT1['Data Month'], gpsDfT1['Speed km/h'], c=gpsDfT1['Daylight'])#, ec='k')\n",
    "plt.xlabel('Research Months')\n",
    "plt.ylabel('Speed km/h')\n",
    "plt.show()"
   ]
  },
  {
   "cell_type": "code",
   "execution_count": 52,
   "id": "f4a264a7",
   "metadata": {},
   "outputs": [],
   "source": [
    "import numpy as np"
   ]
  },
  {
   "cell_type": "code",
   "execution_count": 53,
   "id": "0fa17099",
   "metadata": {},
   "outputs": [],
   "source": [
    "def buildScatterGraph(df, c1, c2, c3):\n",
    "    sc = plt.scatter(df[c1], df[c2], s=size, c=df[c3], edgecolors='none')\n",
    "\n",
    "    lp = lambda i: plt.plot([],color=sc.cmap(sc.norm(i)), ms=np.sqrt(size), mec=\"none\",\n",
    "                            label=\"Feature {:g}\".format(i), ls=\"\", marker=\"o\")[0]\n",
    "    print(lp)\n",
    "    print(c3)\n",
    "    handles = [lp(i) for i in np.unique(df[c3])]\n",
    "    print(handles)\n",
    "    plt.legend(handles=handles)\n",
    "    plt.show()"
   ]
  },
  {
   "cell_type": "code",
   "execution_count": 54,
   "id": "dd6244ab",
   "metadata": {},
   "outputs": [
    {
     "name": "stdout",
     "output_type": "stream",
     "text": [
      "<function buildScatterGraph.<locals>.<lambda> at 0x00000233686D2160>\n",
      "Daylight\n",
      "[<matplotlib.lines.Line2D object at 0x00000233686D9D00>, <matplotlib.lines.Line2D object at 0x00000233686D4280>]\n"
     ]
    },
    {
     "data": {
      "image/png": "[encoded data removed]",
      "text/plain": [
       "<Figure size 432x288 with 1 Axes>"
      ]
     },
     "metadata": {
      "needs_background": "light"
     },
     "output_type": "display_data"
    }
   ],
   "source": [
    "buildScatterGraph(gpsDfT1, 'Data Month', 'Speed km/h', 'Daylight')"
   ]
  },
  {
   "cell_type": "code",
   "execution_count": null,
   "id": "d723af82",
   "metadata": {},
   "outputs": [],
   "source": [
    "from matplotlib.pyplot import figure\n",
    "import matplotlib.colors as clrs\n",
    "figure(num=None, figsize=(20,10), dpi=80, facecolor='w', edgecolor='k')\n",
    "cmap = clrs.ListedColormap(['blue', 'yellow'])\n",
    "\n",
    "scatter = plt.scatter(gpsDfT1['Data Month'], gpsDfT1['Speed km/h'], c=gpsDfT1['Daylight']!= True, cmap=cmap)#, ec='k')\n",
    "plt.xlabel('Research Months')\n",
    "plt.ylabel('Speed km/h')\n",
    "plt.show()\n",
    "\n",
    "#plt.yticks([1.0, 0.0], [\"True\",\n",
    "                        #\"False\"])\n",
    "#plt.scatter(x = data3.index, y= data3, c=(data3 != True).astype(float), marker='d', cmap=cmap)#plt.cm.get_cmap('RdBu'))\n"
   ]
  },
  {
   "cell_type": "code",
   "execution_count": null,
   "id": "92ec669b",
   "metadata": {},
   "outputs": [],
   "source": [
    "from matplotlib.pyplot import figure\n",
    "import matplotlib.colors as clrs\n",
    "figure(num=None, figsize=(20,10), dpi=80, facecolor='w', edgecolor='k')\n",
    "cmap = clrs.ListedColormap(['blue', 'yellow'])\n",
    "\n",
    "scatter = plt.scatter(gpsDfT1['Data Month'], gpsDfT1['Speed km/h'], c=gpsDfT1['Daylight']== True, cmap=cmap, ec='k')\n",
    "plt.xlabel('Research Months')\n",
    "plt.ylabel('Speed km/h')\n",
    "plt.legend(gpsDfT1['Daylight']== True)\n",
    "plt.show()"
   ]
  },
  {
   "cell_type": "code",
   "execution_count": null,
   "id": "ad3820cb",
   "metadata": {},
   "outputs": [],
   "source": [
    "from matplotlib.pyplot import figure\n",
    "import matplotlib.colors as clrs\n",
    "figure(num=None, figsize=(20,10), dpi=80, facecolor='w', edgecolor='k')\n",
    "cmap = clrs.ListedColormap(['blue', 'yellow'])\n",
    "scatter = plt.scatter(gpsDfT1['Data Month'], gpsDfT1['Speed km/h'], c=gpsDfT1['Daylight']== True, cmap=cmap, ec='k')\n",
    "plt.xlabel('Research Months')\n",
    "plt.ylabel('Speed km/h')\n",
    "plt.show()"
   ]
  },
  {
   "cell_type": "code",
   "execution_count": null,
   "id": "f1d21a39",
   "metadata": {},
   "outputs": [],
   "source": [
    "from matplotlib.pyplot import figure\n",
    "import matplotlib.colors as clrs\n",
    "figure(num=None, figsize=(20,10), dpi=80, facecolor='w', edgecolor='k')\n",
    "cmap = clrs.ListedColormap(['blue', 'yellow'])\n",
    "scatter1 = plt.scatter(gpsDfT1['Data Month'], gpsDfT1['Speed km/h'], c=gpsDfT1['Daylight']!= True, cmap=cmap, ec='k')\n",
    "scatter2 = plt.scatter(gpsDfT1['Data Month'], gpsDfT1['Speed km/h'], c=gpsDfT1['Daylight']== True, cmap=cmap, ec='k')\n",
    "plt.xlabel('Research Months')\n",
    "plt.ylabel('Speed km/h')\n",
    "plt.ylim(ymin=0, ymax = 4.2)\n",
    "plt.xlim(xmax = 12.5)\n",
    "plt.grid(axis='y', alpha=0.75)\n",
    "plt.legend([scatter1, scatter2], [\"Daylight\", \"Night-time\"])\n",
    "plt.show()"
   ]
  },
  {
   "cell_type": "code",
   "execution_count": null,
   "id": "818b8259",
   "metadata": {},
   "outputs": [],
   "source": [
    "from matplotlib.pyplot import figure\n",
    "import matplotlib.colors as clrs\n",
    "figure(num=None, figsize=(20,10), dpi=80, facecolor='w', edgecolor='k')\n",
    "cmap = clrs.ListedColormap(['blue', 'yellow'])\n",
    "scatter1 = plt.scatter(gpsDfT2['Data Month'], gpsDfT2['Speed km/h'], c=gpsDfT2['Daylight']!= True, cmap=cmap, ec='k')\n",
    "scatter2 = plt.scatter(gpsDfT2['Data Month'], gpsDfT2['Speed km/h'], c=gpsDfT2['Daylight']== True, cmap=cmap, ec='k')\n",
    "plt.xlabel('Research Months')\n",
    "plt.ylabel('Speed km/h')\n",
    "plt.ylim(ymin=0, ymax = 4.2)\n",
    "plt.xlim(xmax = 12.5)\n",
    "plt.grid(axis='y', alpha=0.75)\n",
    "plt.legend([scatter1, scatter2], [\"Daylight\", \"Night-time\"])\n",
    "plt.show()"
   ]
  },
  {
   "cell_type": "code",
   "execution_count": null,
   "id": "7c5851e0",
   "metadata": {},
   "outputs": [],
   "source": [
    "# Scatter Masked"
   ]
  },
  {
   "cell_type": "code",
   "execution_count": null,
   "id": "c57e393d",
   "metadata": {},
   "outputs": [],
   "source": [
    "from matplotlib.pyplot import figure\n",
    "import matplotlib.colors as clrs\n",
    "import matplotlib.lines as mlines\n",
    "x,y = gpsDfT1['Data Month'], gpsDfT1['Speed km/h']\n",
    "#fig, ax = plt.subplots()\n",
    "fig, ax = plt.subplots(num=None, figsize=(20,10), dpi=80, facecolor='w', edgecolor='k')\n",
    "#figure(num=None, figsize=(20,10), dpi=80, facecolor='w', edgecolor='k')\n",
    "cmap = clrs.ListedColormap(['blue', 'yellow'])\n",
    "scatter1 = plt.scatter(gpsDfT1['Data Month'], gpsDfT1['Speed km/h'], c=gpsDfT1['Daylight']!= True, cmap=cmap, ec='k')\n",
    "scatter2 = plt.scatter(gpsDfT1['Data Month'], gpsDfT1['Speed km/h'], c=gpsDfT1['Daylight']== True, cmap=cmap, ec='k')\n",
    "plt.xlabel('Research Months')\n",
    "plt.ylabel('Speed km/h')\n",
    "plt.ylim(ymin=0, ymax = 4.2)\n",
    "plt.xlim(xmax = 12.5)\n",
    "plt.grid(axis='y', alpha=0.75)\n",
    "\n",
    "# Calculate the simple average of the data\n",
    "y_mean = [np.mean(y)]*len(x!= None)\n",
    "averageLine = plt.plot(y_mean, '-', label=\"Average Speed\", color='green')\n",
    "meanLine = mlines.Line2D(gpsDfT1['Data Month'],y_mean, color='green', marker='_',\n",
    "                          markersize=15, label=f'Average Speed = {y.mean()}')\n",
    "\n",
    "legend1 = plt.legend([scatter1, scatter2], [\"Daylight\", \"Night-time\"])\n",
    "legend2 = plt.legend(handles=[meanLine], loc=2)\n",
    "plt.gca().add_artist(legend1)\n",
    "plt.show()"
   ]
  },
  {
   "cell_type": "code",
   "execution_count": null,
   "id": "b3cfb52a",
   "metadata": {},
   "outputs": [],
   "source": [
    "x,y,c = gpsDfT2['Data Month'], gpsDfT2['Speed km/h'], gpsDfT2['Daylight']\n",
    "#fig, ax = plt.subplots()\n",
    "fig, ax = plt.subplots(num=None, figsize=(20,10), dpi=80, facecolor='w', edgecolor='k')\n",
    "#figure(num=None, figsize=(20,10), dpi=80, facecolor='w', edgecolor='k')\n",
    "cmap = clrs.ListedColormap(['blue', 'yellow'])\n",
    "scatter1 = plt.scatter(x,y, c=c!= True, cmap=cmap, ec='k')\n",
    "scatter2 = plt.scatter(x,y, c=c== True, cmap=cmap, ec='k')\n",
    "plt.xlabel('Research Months')\n",
    "plt.ylabel('Speed km/h')\n",
    "plt.ylim(ymin=0, ymax = 4.2)\n",
    "plt.xlim(xmax = 12.5)\n",
    "plt.grid(axis='y', alpha=0.75)\n",
    "\n",
    "# Calculate the simple average of the data\n",
    "y_mean = [np.mean(y)]*len(x!= None)\n",
    "averageLine = plt.plot(y_mean, '-', label=\"Average Speed\", color='green')\n",
    "meanLine = mlines.Line2D(gpsDfT1['Data Month'],y_mean, color='green', marker='_',\n",
    "                          markersize=15, label=f'Average Speed = {y.mean()} km/h')\n",
    "\n",
    "legend1 = plt.legend([scatter1, scatter2], [\"Daylight\", \"Night-time\"])\n",
    "legend2 = plt.legend(handles=[meanLine], loc=2)\n",
    "plt.gca().add_artist(legend1)\n",
    "plt.show()"
   ]
  },
  {
   "cell_type": "code",
   "execution_count": null,
   "id": "99ad4a2b",
   "metadata": {},
   "outputs": [],
   "source": [
    "x,y = gpsDfT1['Data Month'], gpsDfT1['Speed km/h']\n",
    "#fig, ax = plt.subplots()\n",
    "fig, ax = plt.subplots(num=None, figsize=(20,10), dpi=80, facecolor='w', edgecolor='k')\n",
    "#figure(num=None, figsize=(20,10), dpi=80, facecolor='w', edgecolor='k')\n",
    "cmap = clrs.ListedColormap(['blue', 'yellow'])\n",
    "scatter1 = plt.scatter(gpsDfT1['Data Month'], gpsDfT1['Speed km/h'], c=gpsDfT1['Daylight']!= True, cmap=cmap, ec='k')\n",
    "scatter2 = plt.scatter(gpsDfT1['Data Month'], gpsDfT1['Speed km/h'], c=gpsDfT1['Daylight']== True, cmap=cmap, ec='k')\n",
    "plt.xlabel('Research Months')\n",
    "plt.ylabel('Speed km/h')\n",
    "plt.ylim(ymin=0, ymax = 4.5)\n",
    "plt.xlim(xmax = 12.5)\n",
    "plt.grid(axis='y', alpha=0.75)\n",
    "\n",
    "# Calculate the simple average of the data\n",
    "y_mean = [np.mean(y)]*len(x)\n",
    "y_max = [np.max(y)]*len(x)\n",
    "averageLine = plt.plot(y_mean, '-', label=\"Average Speed\", color='green')\n",
    "maxLine = plt.plot(y_max, '-', label=\"Average Speed\", color='red')\n",
    "\n",
    "# Create legend\n",
    "meanLineLegend = mlines.Line2D(gpsDfT1['Data Month'],y_mean, color='green', marker='_',\n",
    "                          markersize=15, label=f'Estimated Average Speed = {round(y.mean(), 2)} km/h')\n",
    "maxLineLegend = mlines.Line2D(gpsDfT1['Data Month'],y_mean, color='red', marker='_',\n",
    "                          markersize=15, label=f'Estimated Maximum Speed = {round(y.max(), 2)} km/h')\n",
    "\n",
    "legend1 = plt.legend([scatter1, scatter2], [\"Daylight\", \"Night-time\"])\n",
    "legend2 = plt.legend(bbox_to_anchor=(.25, 1),handles=[meanLineLegend, maxLineLegend], loc=2)\n",
    "plt.gca().add_artist(legend1)\n",
    "plt.show()"
   ]
  },
  {
   "cell_type": "code",
   "execution_count": null,
   "id": "46704791",
   "metadata": {},
   "outputs": [],
   "source": [
    "x,y = gpsDfT1['Data Month'], gpsDfT1['Speed km/h']\n",
    "#fig, ax = plt.subplots()\n",
    "fig, ax = plt.subplots(num=None, figsize=(20,10), dpi=80, facecolor='w', edgecolor='k')\n",
    "#figure(num=None, figsize=(20,10), dpi=80, facecolor='w', edgecolor='k')\n",
    "cmap = clrs.ListedColormap(['blue', 'yellow'])\n",
    "scatter1 = plt.scatter(gpsDfT1['Data Month'], gpsDfT1['Speed km/h'], c=gpsDfT1['Daylight']!= True, cmap=cmap, ec='k')\n",
    "scatter2 = plt.scatter(gpsDfT1['Data Month'], gpsDfT1['Speed km/h'], c=gpsDfT1['Daylight']== True, cmap=cmap, ec='k')\n",
    "plt.xlabel('Research Months')\n",
    "plt.ylabel('Speed km/h')\n",
    "plt.ylim(ymin=0, ymax = 4.5)\n",
    "plt.xlim(xmax = 12.5)\n",
    "plt.grid(axis='y', alpha=0.75)\n",
    "\n",
    "# Calculate the simple average of the data\n",
    "y_mean = [np.mean(y)]*len(x)\n",
    "y_max = [np.max(y)]*len(x)\n",
    "averageLine = plt.plot(y_mean, '-', label=\"Average Speed\", color='green')\n",
    "maxLine = plt.plot(y_max, '-', label=\"Average Speed\", color='red')\n",
    "\n",
    "# Create legend\n",
    "meanLineLegend = mlines.Line2D(gpsDfT1['Data Month'],y_mean, color='green', marker='_',\n",
    "                          markersize=15, label=f'Estimated Average Speed = {round(y.mean(), 2)} km/h')\n",
    "maxLineLegend = mlines.Line2D(gpsDfT1['Data Month'],y_mean, color='red', marker='_',\n",
    "                          markersize=15, label=f'Estimated Maximum Speed = {round(y.max(), 2)} km/h')\n",
    "\n",
    "legend1 = plt.legend([scatter1, scatter2], [\"Daylight\", \"Night-time\"])\n",
    "legend2 = plt.legend(bbox_to_anchor=(0., 1),handles=[meanLineLegend, maxLineLegend], loc=2)\n",
    "plt.gca().add_artist(legend1)\n",
    "plt.title(\"f\", fontdict={'fontsize': 16, 'fontweight': 'medium'}, loc='center')\n",
    "plt.show()"
   ]
  },
  {
   "cell_type": "code",
   "execution_count": null,
   "id": "47c15a31",
   "metadata": {},
   "outputs": [],
   "source": []
  }
 ],
 "metadata": {
  "kernelspec": {
   "display_name": "Python 3 (ipykernel)",
   "language": "python",
   "name": "python3"
  },
  "language_info": {
   "codemirror_mode": {
    "name": "ipython",
    "version": 3
   },
   "file_extension": ".py",
   "mimetype": "text/x-python",
   "name": "python",
   "nbconvert_exporter": "python",
   "pygments_lexer": "ipython3",
   "version": "3.9.6"
  }
 },
 "nbformat": 4,
 "nbformat_minor": 5
}
